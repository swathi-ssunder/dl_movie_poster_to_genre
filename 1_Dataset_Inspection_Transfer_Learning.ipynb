{
 "cells": [
  {
   "cell_type": "code",
   "execution_count": 1,
   "metadata": {
    "collapsed": true
   },
   "outputs": [],
   "source": [
    "import csv\n",
    "import numpy as np\n",
    "import pandas as pd\n",
    "\n",
    "import os\n",
    "\n",
    "from IPython.display import HTML, display\n",
    "\n",
    "import matplotlib.cm as cm\n",
    "\n",
    "import PIL\n",
    "from PIL import Image\n",
    "\n",
    "import torch\n",
    "import torch.utils.data as data_utils\n",
    "import torchvision.models as models\n",
    "from torch.nn.modules import CrossEntropyLoss, L1Loss\n",
    "import torch.optim as optim\n",
    "from torch.autograd import Variable\n",
    "from torchvision import datasets, transforms\n",
    "import torch.nn as nn\n",
    "\n",
    "import time"
   ]
  },
  {
   "cell_type": "markdown",
   "metadata": {},
   "source": [
    "#### Declaration of constants to be used in the notebook"
   ]
  },
  {
   "cell_type": "code",
   "execution_count": 2,
   "metadata": {
    "collapsed": true
   },
   "outputs": [],
   "source": [
    "DATA_PATH = 'datasets/'\n",
    "\n",
    "SAMPLE_MOVIE_POSTERS_PATH = DATA_PATH + 'posters/'\n",
    "MOVIE_GENRE_FILE = DATA_PATH + 'MovieGenre.csv'\n",
    "\n",
    "SAMPLE_DATASET_SIZE = 60\n",
    "\n",
    "TRAINING_SET_PROPORTION = 0.70\n",
    "\n",
    "BATCH_SIZE = 10\n",
    "LEARNING_RATE = 0.001\n",
    "MOMENTUM = 0.9\n",
    "NUM_EPOCHS = 5\n",
    "CLEAR_GRAD_TRAIN = False\n",
    "USE_GPU = False"
   ]
  },
  {
   "cell_type": "markdown",
   "metadata": {},
   "source": [
    "### Dataset Inspection"
   ]
  },
  {
   "cell_type": "markdown",
   "metadata": {},
   "source": [
    "#### 1. Movie Genres"
   ]
  },
  {
   "cell_type": "markdown",
   "metadata": {},
   "source": [
    "Read the Movie Genre file"
   ]
  },
  {
   "cell_type": "code",
   "execution_count": 3,
   "metadata": {
    "collapsed": true
   },
   "outputs": [],
   "source": [
    "data = []\n",
    "\n",
    "with open(MOVIE_GENRE_FILE, 'r', encoding='latin1') as f:\n",
    "    csv_reader = csv.reader(f)\n",
    "\n",
    "    for row in csv_reader:\n",
    "        data.append(row)"
   ]
  },
  {
   "cell_type": "markdown",
   "metadata": {},
   "source": [
    "Print the first few entries to inspect the structure of data"
   ]
  },
  {
   "cell_type": "code",
   "execution_count": 4,
   "metadata": {
    "collapsed": false,
    "scrolled": true
   },
   "outputs": [
    {
     "data": {
      "text/plain": [
       "[['imdbId', 'Imdb Link', 'Title', 'IMDB Score', 'Genre', 'Poster'],\n",
       " ['114709',\n",
       "  'http://www.imdb.com/title/tt114709',\n",
       "  'Toy Story (1995)',\n",
       "  '8.3',\n",
       "  'Animation|Adventure|Comedy',\n",
       "  'https://images-na.ssl-images-amazon.com/images/M/MV5BMDU2ZWJlMjktMTRhMy00ZTA5LWEzNDgtYmNmZTEwZTViZWJkXkEyXkFqcGdeQXVyNDQ2OTk4MzI@._V1_UX182_CR0,0,182,268_AL_.jpg'],\n",
       " ['113497',\n",
       "  'http://www.imdb.com/title/tt113497',\n",
       "  'Jumanji (1995)',\n",
       "  '6.9',\n",
       "  'Action|Adventure|Family',\n",
       "  'https://images-na.ssl-images-amazon.com/images/M/MV5BZTk2ZmUwYmEtNTcwZS00YmMyLWFkYjMtNTRmZDA3YWExMjc2XkEyXkFqcGdeQXVyMTQxNzMzNDI@._V1_UY268_CR10,0,182,268_AL_.jpg'],\n",
       " ['113228',\n",
       "  'http://www.imdb.com/title/tt113228',\n",
       "  'Grumpier Old Men (1995)',\n",
       "  '6.6',\n",
       "  'Comedy|Romance',\n",
       "  'https://images-na.ssl-images-amazon.com/images/M/MV5BMjQxM2YyNjMtZjUxYy00OGYyLTg0MmQtNGE2YzNjYmUyZTY1XkEyXkFqcGdeQXVyMTQxNzMzNDI@._V1_UX182_CR0,0,182,268_AL_.jpg'],\n",
       " ['114885',\n",
       "  'http://www.imdb.com/title/tt114885',\n",
       "  'Waiting to Exhale (1995)',\n",
       "  '5.7',\n",
       "  'Comedy|Drama|Romance',\n",
       "  'https://images-na.ssl-images-amazon.com/images/M/MV5BMTczMTMyMTgyM15BMl5BanBnXkFtZTcwOTc4OTQyMQ@@._V1_UY268_CR4,0,182,268_AL_.jpg']]"
      ]
     },
     "execution_count": 4,
     "metadata": {},
     "output_type": "execute_result"
    }
   ],
   "source": [
    "data[0:5]"
   ]
  },
  {
   "cell_type": "markdown",
   "metadata": {},
   "source": [
    "Create a dataframe from the data, using the entries at the first index as the column headers"
   ]
  },
  {
   "cell_type": "code",
   "execution_count": 5,
   "metadata": {
    "collapsed": true
   },
   "outputs": [],
   "source": [
    "columns = data.pop(0)\n",
    "\n",
    "columns = list(map(lambda x: x.lower().replace(' ', '_'), columns))\n",
    "movie_genre_df = pd.DataFrame(data, columns=columns)"
   ]
  },
  {
   "cell_type": "markdown",
   "metadata": {},
   "source": [
    "Inspect the dataframe"
   ]
  },
  {
   "cell_type": "code",
   "execution_count": 6,
   "metadata": {
    "collapsed": false,
    "scrolled": true
   },
   "outputs": [
    {
     "data": {
      "text/plain": [
       "(40108, 6)"
      ]
     },
     "execution_count": 6,
     "metadata": {},
     "output_type": "execute_result"
    }
   ],
   "source": [
    "movie_genre_df.shape"
   ]
  },
  {
   "cell_type": "code",
   "execution_count": 7,
   "metadata": {
    "collapsed": false
   },
   "outputs": [
    {
     "data": {
      "text/html": [
       "<div>\n",
       "<table border=\"1\" class=\"dataframe\">\n",
       "  <thead>\n",
       "    <tr style=\"text-align: right;\">\n",
       "      <th></th>\n",
       "      <th>imdbid</th>\n",
       "      <th>imdb_link</th>\n",
       "      <th>title</th>\n",
       "      <th>imdb_score</th>\n",
       "      <th>genre</th>\n",
       "      <th>poster</th>\n",
       "    </tr>\n",
       "  </thead>\n",
       "  <tbody>\n",
       "    <tr>\n",
       "      <th>0</th>\n",
       "      <td>114709</td>\n",
       "      <td>http://www.imdb.com/title/tt114709</td>\n",
       "      <td>Toy Story (1995)</td>\n",
       "      <td>8.3</td>\n",
       "      <td>Animation|Adventure|Comedy</td>\n",
       "      <td>https://images-na.ssl-images-amazon.com/images...</td>\n",
       "    </tr>\n",
       "    <tr>\n",
       "      <th>1</th>\n",
       "      <td>113497</td>\n",
       "      <td>http://www.imdb.com/title/tt113497</td>\n",
       "      <td>Jumanji (1995)</td>\n",
       "      <td>6.9</td>\n",
       "      <td>Action|Adventure|Family</td>\n",
       "      <td>https://images-na.ssl-images-amazon.com/images...</td>\n",
       "    </tr>\n",
       "    <tr>\n",
       "      <th>2</th>\n",
       "      <td>113228</td>\n",
       "      <td>http://www.imdb.com/title/tt113228</td>\n",
       "      <td>Grumpier Old Men (1995)</td>\n",
       "      <td>6.6</td>\n",
       "      <td>Comedy|Romance</td>\n",
       "      <td>https://images-na.ssl-images-amazon.com/images...</td>\n",
       "    </tr>\n",
       "    <tr>\n",
       "      <th>3</th>\n",
       "      <td>114885</td>\n",
       "      <td>http://www.imdb.com/title/tt114885</td>\n",
       "      <td>Waiting to Exhale (1995)</td>\n",
       "      <td>5.7</td>\n",
       "      <td>Comedy|Drama|Romance</td>\n",
       "      <td>https://images-na.ssl-images-amazon.com/images...</td>\n",
       "    </tr>\n",
       "    <tr>\n",
       "      <th>4</th>\n",
       "      <td>113041</td>\n",
       "      <td>http://www.imdb.com/title/tt113041</td>\n",
       "      <td>Father of the Bride Part II (1995)</td>\n",
       "      <td>5.9</td>\n",
       "      <td>Comedy|Family|Romance</td>\n",
       "      <td>https://images-na.ssl-images-amazon.com/images...</td>\n",
       "    </tr>\n",
       "  </tbody>\n",
       "</table>\n",
       "</div>"
      ],
      "text/plain": [
       "   imdbid                           imdb_link  \\\n",
       "0  114709  http://www.imdb.com/title/tt114709   \n",
       "1  113497  http://www.imdb.com/title/tt113497   \n",
       "2  113228  http://www.imdb.com/title/tt113228   \n",
       "3  114885  http://www.imdb.com/title/tt114885   \n",
       "4  113041  http://www.imdb.com/title/tt113041   \n",
       "\n",
       "                                title imdb_score                       genre  \\\n",
       "0                    Toy Story (1995)        8.3  Animation|Adventure|Comedy   \n",
       "1                      Jumanji (1995)        6.9     Action|Adventure|Family   \n",
       "2             Grumpier Old Men (1995)        6.6              Comedy|Romance   \n",
       "3            Waiting to Exhale (1995)        5.7        Comedy|Drama|Romance   \n",
       "4  Father of the Bride Part II (1995)        5.9       Comedy|Family|Romance   \n",
       "\n",
       "                                              poster  \n",
       "0  https://images-na.ssl-images-amazon.com/images...  \n",
       "1  https://images-na.ssl-images-amazon.com/images...  \n",
       "2  https://images-na.ssl-images-amazon.com/images...  \n",
       "3  https://images-na.ssl-images-amazon.com/images...  \n",
       "4  https://images-na.ssl-images-amazon.com/images...  "
      ]
     },
     "execution_count": 7,
     "metadata": {},
     "output_type": "execute_result"
    }
   ],
   "source": [
    "movie_genre_df.head()"
   ]
  },
  {
   "cell_type": "markdown",
   "metadata": {},
   "source": [
    "Process the dataframe so that genres can be accessed easily further on "
   ]
  },
  {
   "cell_type": "code",
   "execution_count": 8,
   "metadata": {
    "collapsed": false,
    "scrolled": true
   },
   "outputs": [],
   "source": [
    "# Split genre to create a list of values \n",
    "movie_genre_df['genre'] = movie_genre_df['genre'].apply(lambda x: x.split('|'))\n",
    "\n",
    "# Expand genre into its own dataframe\n",
    "tags = movie_genre_df['genre'].apply(pd.Series).fillna('')\n",
    "\n",
    "# Rename the columns\n",
    "tags = tags.rename(columns = lambda x : 'genre_' + str(x))\n",
    "\n",
    "# Merge the genre dataframe back into the original dataframe\n",
    "movie_genre_df = pd.concat([movie_genre_df[:], tags[:]], axis=1)"
   ]
  },
  {
   "cell_type": "markdown",
   "metadata": {},
   "source": [
    "Inspect the dataframe"
   ]
  },
  {
   "cell_type": "code",
   "execution_count": 9,
   "metadata": {
    "collapsed": false,
    "scrolled": true
   },
   "outputs": [
    {
     "data": {
      "text/plain": [
       "(40108, 9)"
      ]
     },
     "execution_count": 9,
     "metadata": {},
     "output_type": "execute_result"
    }
   ],
   "source": [
    "movie_genre_df.shape"
   ]
  },
  {
   "cell_type": "code",
   "execution_count": 10,
   "metadata": {
    "collapsed": false,
    "scrolled": true
   },
   "outputs": [
    {
     "data": {
      "text/html": [
       "<div>\n",
       "<table border=\"1\" class=\"dataframe\">\n",
       "  <thead>\n",
       "    <tr style=\"text-align: right;\">\n",
       "      <th></th>\n",
       "      <th>imdbid</th>\n",
       "      <th>imdb_link</th>\n",
       "      <th>title</th>\n",
       "      <th>imdb_score</th>\n",
       "      <th>genre</th>\n",
       "      <th>poster</th>\n",
       "      <th>genre_0</th>\n",
       "      <th>genre_1</th>\n",
       "      <th>genre_2</th>\n",
       "    </tr>\n",
       "  </thead>\n",
       "  <tbody>\n",
       "    <tr>\n",
       "      <th>0</th>\n",
       "      <td>114709</td>\n",
       "      <td>http://www.imdb.com/title/tt114709</td>\n",
       "      <td>Toy Story (1995)</td>\n",
       "      <td>8.3</td>\n",
       "      <td>[Animation, Adventure, Comedy]</td>\n",
       "      <td>https://images-na.ssl-images-amazon.com/images...</td>\n",
       "      <td>Animation</td>\n",
       "      <td>Adventure</td>\n",
       "      <td>Comedy</td>\n",
       "    </tr>\n",
       "    <tr>\n",
       "      <th>1</th>\n",
       "      <td>113497</td>\n",
       "      <td>http://www.imdb.com/title/tt113497</td>\n",
       "      <td>Jumanji (1995)</td>\n",
       "      <td>6.9</td>\n",
       "      <td>[Action, Adventure, Family]</td>\n",
       "      <td>https://images-na.ssl-images-amazon.com/images...</td>\n",
       "      <td>Action</td>\n",
       "      <td>Adventure</td>\n",
       "      <td>Family</td>\n",
       "    </tr>\n",
       "    <tr>\n",
       "      <th>2</th>\n",
       "      <td>113228</td>\n",
       "      <td>http://www.imdb.com/title/tt113228</td>\n",
       "      <td>Grumpier Old Men (1995)</td>\n",
       "      <td>6.6</td>\n",
       "      <td>[Comedy, Romance]</td>\n",
       "      <td>https://images-na.ssl-images-amazon.com/images...</td>\n",
       "      <td>Comedy</td>\n",
       "      <td>Romance</td>\n",
       "      <td></td>\n",
       "    </tr>\n",
       "    <tr>\n",
       "      <th>3</th>\n",
       "      <td>114885</td>\n",
       "      <td>http://www.imdb.com/title/tt114885</td>\n",
       "      <td>Waiting to Exhale (1995)</td>\n",
       "      <td>5.7</td>\n",
       "      <td>[Comedy, Drama, Romance]</td>\n",
       "      <td>https://images-na.ssl-images-amazon.com/images...</td>\n",
       "      <td>Comedy</td>\n",
       "      <td>Drama</td>\n",
       "      <td>Romance</td>\n",
       "    </tr>\n",
       "    <tr>\n",
       "      <th>4</th>\n",
       "      <td>113041</td>\n",
       "      <td>http://www.imdb.com/title/tt113041</td>\n",
       "      <td>Father of the Bride Part II (1995)</td>\n",
       "      <td>5.9</td>\n",
       "      <td>[Comedy, Family, Romance]</td>\n",
       "      <td>https://images-na.ssl-images-amazon.com/images...</td>\n",
       "      <td>Comedy</td>\n",
       "      <td>Family</td>\n",
       "      <td>Romance</td>\n",
       "    </tr>\n",
       "  </tbody>\n",
       "</table>\n",
       "</div>"
      ],
      "text/plain": [
       "   imdbid                           imdb_link  \\\n",
       "0  114709  http://www.imdb.com/title/tt114709   \n",
       "1  113497  http://www.imdb.com/title/tt113497   \n",
       "2  113228  http://www.imdb.com/title/tt113228   \n",
       "3  114885  http://www.imdb.com/title/tt114885   \n",
       "4  113041  http://www.imdb.com/title/tt113041   \n",
       "\n",
       "                                title imdb_score  \\\n",
       "0                    Toy Story (1995)        8.3   \n",
       "1                      Jumanji (1995)        6.9   \n",
       "2             Grumpier Old Men (1995)        6.6   \n",
       "3            Waiting to Exhale (1995)        5.7   \n",
       "4  Father of the Bride Part II (1995)        5.9   \n",
       "\n",
       "                            genre  \\\n",
       "0  [Animation, Adventure, Comedy]   \n",
       "1     [Action, Adventure, Family]   \n",
       "2               [Comedy, Romance]   \n",
       "3        [Comedy, Drama, Romance]   \n",
       "4       [Comedy, Family, Romance]   \n",
       "\n",
       "                                              poster    genre_0    genre_1  \\\n",
       "0  https://images-na.ssl-images-amazon.com/images...  Animation  Adventure   \n",
       "1  https://images-na.ssl-images-amazon.com/images...     Action  Adventure   \n",
       "2  https://images-na.ssl-images-amazon.com/images...     Comedy    Romance   \n",
       "3  https://images-na.ssl-images-amazon.com/images...     Comedy      Drama   \n",
       "4  https://images-na.ssl-images-amazon.com/images...     Comedy     Family   \n",
       "\n",
       "   genre_2  \n",
       "0   Comedy  \n",
       "1   Family  \n",
       "2           \n",
       "3  Romance  \n",
       "4  Romance  "
      ]
     },
     "execution_count": 10,
     "metadata": {},
     "output_type": "execute_result"
    }
   ],
   "source": [
    "movie_genre_df.head()"
   ]
  },
  {
   "cell_type": "markdown",
   "metadata": {},
   "source": [
    "Retrieve the distribution of unique genres across all movies"
   ]
  },
  {
   "cell_type": "code",
   "execution_count": 11,
   "metadata": {
    "collapsed": false,
    "scrolled": true
   },
   "outputs": [],
   "source": [
    "# Get distribution of unique values from multiple genre columns\n",
    "# Remove the entry representing no genre\n",
    "# Get combined counts of unique genres\n",
    "\n",
    "genre_distribution = movie_genre_df[['genre_0', 'genre_1', 'genre_2']] \\\n",
    "            .apply(lambda s: s.value_counts()) \\\n",
    "            .drop('') \\\n",
    "            .sum(axis=1) \\\n",
    "            .reset_index()\n",
    "                \n",
    "# Rename the columns acordingly                \n",
    "genre_distribution.columns = ['genre', 'count']\n",
    "\n",
    "# Sort the dataframe to order by predominant genres \n",
    "genre_distribution = genre_distribution.sort_values(by='count', ascending=False).reset_index(drop=True)\n",
    "\n",
    "# Store the unique genres as a dictionary\n",
    "unique_genres = genre_distribution['genre'].tolist()\n",
    "unique_genres = {x: i for (i,x) in enumerate(unique_genres)}\n",
    "unique_genres[''] = len(unique_genres)"
   ]
  },
  {
   "cell_type": "markdown",
   "metadata": {},
   "source": [
    "Visualise the distribution of genres across movies"
   ]
  },
  {
   "cell_type": "code",
   "execution_count": 12,
   "metadata": {
    "collapsed": false,
    "scrolled": false
   },
   "outputs": [
    {
     "data": {
      "image/png": "[encoded data removed]",
      "text/plain": [
       "<matplotlib.figure.Figure at 0x7f2a9195d208>"
      ]
     },
     "execution_count": 12,
     "metadata": {},
     "output_type": "execute_result"
    }
   ],
   "source": [
    "genres_count = genre_distribution.shape[0]\n",
    "colors = cm.rainbow(np.linspace(0, 1, genres_count))\n",
    "\n",
    "\n",
    "plot = genre_distribution.plot(x='genre', y='count', kind='bar', width=0.8, rot=0, figsize=(15,6), \n",
    "                               color=colors, legend=None)\n",
    "\n",
    "plot.set_title('Movie Genres', fontweight='bold')\n",
    "\n",
    "plot.set_ylabel('Count of Movies')\n",
    "plot.set_xlabel('Movie Genre')\n",
    "\n",
    "plot.set_xticklabels(labels=genre_distribution['genre'], rotation=30)\n",
    "\n",
    "# plot.get_xaxis().set_ticks(rotation=30)\n",
    "\n",
    "# rects = plot.patches\n",
    "\n",
    "# # Now make some labels\n",
    "# labels = [int(genre_distribution['count'][i]) for i in range(len(rects))]\n",
    "\n",
    "# for rect, label in zip(rects, labels):\n",
    "#     height = rect.get_height()\n",
    "#     plot.text(rect.get_x() + rect.get_width()/2, height + 5, label, ha='center', va='bottom')\n",
    "\n",
    "plot.get_figure() #.save_fig('')"
   ]
  },
  {
   "cell_type": "markdown",
   "metadata": {},
   "source": [
    "#### 2. Sample Movie Posters"
   ]
  },
  {
   "cell_type": "markdown",
   "metadata": {},
   "source": [
    "Create a list of the sample movie posters names by traversing the directory"
   ]
  },
  {
   "cell_type": "code",
   "execution_count": 13,
   "metadata": {
    "collapsed": false
   },
   "outputs": [
    {
     "name": "stdout",
     "output_type": "stream",
     "text": [
      "Number of sample movie posters = 997\n"
     ]
    }
   ],
   "source": [
    "poster_files = os.listdir(SAMPLE_MOVIE_POSTERS_PATH)\n",
    "\n",
    "imdb_ids = [i.split('.')[0] for i in poster_files]\n",
    "sample_movie_posters = [SAMPLE_MOVIE_POSTERS_PATH + i for i in poster_files]\n",
    "\n",
    "print(\"Number of sample movie posters =\", len(sample_movie_posters))"
   ]
  },
  {
   "cell_type": "markdown",
   "metadata": {},
   "source": [
    "Create a mini-batch of posters and associated genres."
   ]
  },
  {
   "cell_type": "code",
   "execution_count": 14,
   "metadata": {
    "collapsed": false
   },
   "outputs": [],
   "source": [
    "mini_batch_posters = sample_movie_posters[0:SAMPLE_DATASET_SIZE]\n",
    "\n",
    "mini_batch_genre1 = movie_genre_df[movie_genre_df['imdbid'].isin(imdb_ids[0:SAMPLE_DATASET_SIZE])]['genre_0'].tolist()\n",
    "mini_batch_genre2 = movie_genre_df[movie_genre_df['imdbid'].isin(imdb_ids[0:SAMPLE_DATASET_SIZE])]['genre_1'].tolist()\n",
    "mini_batch_genre3 = movie_genre_df[movie_genre_df['imdbid'].isin(imdb_ids[0:SAMPLE_DATASET_SIZE])]['genre_2'].tolist()\n",
    "\n",
    "mini_batch_genre1_ids = [unique_genres[i] for i in mini_batch_genre1]\n",
    "mini_batch_genre2_ids = [unique_genres[i] for i in mini_batch_genre2]\n",
    "mini_batch_genre3_ids = [unique_genres[i] for i in mini_batch_genre3]\n",
    "\n",
    "num_classes = len(unique_genres) - 1"
   ]
  },
  {
   "cell_type": "markdown",
   "metadata": {},
   "source": [
    "Visualise the sample movie posters"
   ]
  },
  {
   "cell_type": "code",
   "execution_count": 15,
   "metadata": {
    "collapsed": false,
    "scrolled": true
   },
   "outputs": [
    {
     "data": {
      "text/html": [
       "<table></tr/><tr><td><img src=datasets/posters/24262.jpg width=\"70\" height=\"70\"/><span>Drama</span</td><td><img src=datasets/posters/21885.jpg width=\"70\" height=\"70\"/><span>Drama</span</td><td><img src=datasets/posters/19096.jpg width=\"70\" height=\"70\"/><span>Crime</span</td><td><img src=datasets/posters/23326.jpg width=\"70\" height=\"70\"/><span>Drama</span</td><td><img src=datasets/posters/25440.jpg width=\"70\" height=\"70\"/><span>Short</span</td><td><img src=datasets/posters/22676.jpg width=\"70\" height=\"70\"/><span>Comedy</span</td><td><img src=datasets/posters/8874.jpg width=\"70\" height=\"70\"/><span>Documentary</span</td><td><img src=datasets/posters/24314.jpg width=\"70\" height=\"70\"/><span>Adventure</span</td><td><img src=datasets/posters/20114.jpg width=\"70\" height=\"70\"/><span>Comedy</span</td><td><img src=datasets/posters/5060.jpg width=\"70\" height=\"70\"/><span>Crime</span</td><td><img src=datasets/posters/20142.jpg width=\"70\" height=\"70\"/><span>Comedy</span</td><td><img src=datasets/posters/23800.jpg width=\"70\" height=\"70\"/><span>Comedy</span</td></tr/><tr><td><img src=datasets/posters/19563.jpg width=\"70\" height=\"70\"/><span>Drama</span</td><td><img src=datasets/posters/20945.jpg width=\"70\" height=\"70\"/><span>Short</span</td><td><img src=datasets/posters/9440.jpg width=\"70\" height=\"70\"/><span>Comedy</span</td><td><img src=datasets/posters/3419.jpg width=\"70\" height=\"70\"/><span>Comedy</span</td><td><img src=datasets/posters/23180.jpg width=\"70\" height=\"70\"/><span>Music</span</td><td><img src=datasets/posters/19237.jpg width=\"70\" height=\"70\"/><span>Crime</span</td><td><img src=datasets/posters/23396.jpg width=\"70\" height=\"70\"/><span>Romance</span</td><td><img src=datasets/posters/20701.jpg width=\"70\" height=\"70\"/><span>Drama</span</td><td><img src=datasets/posters/22236.jpg width=\"70\" height=\"70\"/><span>Comedy</span</td><td><img src=datasets/posters/23847.jpg width=\"70\" height=\"70\"/><span>Drama</span</td><td><img src=datasets/posters/14446.jpg width=\"70\" height=\"70\"/><span>Drama</span</td><td><img src=datasets/posters/22807.jpg width=\"70\" height=\"70\"/><span>Drama</span</td></tr/><tr><td><img src=datasets/posters/4707.jpg width=\"70\" height=\"70\"/><span>Comedy</span</td><td><img src=datasets/posters/16230.jpg width=\"70\" height=\"70\"/><span>Drama</span</td><td><img src=datasets/posters/23881.jpg width=\"70\" height=\"70\"/><span>Drama</span</td><td><img src=datasets/posters/25410.jpg width=\"70\" height=\"70\"/><span>Drama</span</td><td><img src=datasets/posters/21042.jpg width=\"70\" height=\"70\"/><span>Drama</span</td><td><img src=datasets/posters/22792.jpg width=\"70\" height=\"70\"/><span>Drama</span</td><td><img src=datasets/posters/19509.jpg width=\"70\" height=\"70\"/><span>Comedy</span</td><td><img src=datasets/posters/13626.jpg width=\"70\" height=\"70\"/><span>Drama</span</td><td><img src=datasets/posters/20092.jpg width=\"70\" height=\"70\"/><span>Crime</span</td><td><img src=datasets/posters/22017.jpg width=\"70\" height=\"70\"/><span>Drama</span</td><td><img src=datasets/posters/16804.jpg width=\"70\" height=\"70\"/><span>Action</span</td><td><img src=datasets/posters/10195.jpg width=\"70\" height=\"70\"/><span>Drama</span</td></tr/><tr><td><img src=datasets/posters/22158.jpg width=\"70\" height=\"70\"/><span>Comedy</span</td><td><img src=datasets/posters/16640.jpg width=\"70\" height=\"70\"/><span>Drama</span</td><td><img src=datasets/posters/23037.jpg width=\"70\" height=\"70\"/><span>Mystery</span</td><td><img src=datasets/posters/24500.jpg width=\"70\" height=\"70\"/><span>Drama</span</td><td><img src=datasets/posters/14358.jpg width=\"70\" height=\"70\"/><span>Adventure</span</td><td><img src=datasets/posters/2544.jpg width=\"70\" height=\"70\"/><span>Romance</span</td><td><img src=datasets/posters/18253.jpg width=\"70\" height=\"70\"/><span>Romance</span</td><td><img src=datasets/posters/19400.jpg width=\"70\" height=\"70\"/><span>Animation</span</td><td><img src=datasets/posters/24793.jpg width=\"70\" height=\"70\"/><span>Drama</span</td><td><img src=datasets/posters/12253.jpg width=\"70\" height=\"70\"/><span>Drama</span</td><td><img src=datasets/posters/24617.jpg width=\"70\" height=\"70\"/><span>Short</span</td><td><img src=datasets/posters/23251.jpg width=\"70\" height=\"70\"/><span>Drama</span</td></tr/><tr><td><img src=datasets/posters/24803.jpg width=\"70\" height=\"70\"/><span>Adventure</span</td><td><img src=datasets/posters/4288.jpg width=\"70\" height=\"70\"/><span>Short</span</td><td><img src=datasets/posters/24402.jpg width=\"70\" height=\"70\"/><span>Comedy</span</td><td><img src=datasets/posters/20987.jpg width=\"70\" height=\"70\"/><span>Drama</span</td><td><img src=datasets/posters/4972.jpg width=\"70\" height=\"70\"/><span>Comedy</span</td><td><img src=datasets/posters/24772.jpg width=\"70\" height=\"70\"/><span>Adventure</span</td><td><img src=datasets/posters/19788.jpg width=\"70\" height=\"70\"/><span>Drama</span</td><td><img src=datasets/posters/18379.jpg width=\"70\" height=\"70\"/><span>Comedy</span</td><td><img src=datasets/posters/24302.jpg width=\"70\" height=\"70\"/><span>Drama</span</td><td><img src=datasets/posters/15801.jpg width=\"70\" height=\"70\"/><span>Romance</span</td><td><img src=datasets/posters/21836.jpg width=\"70\" height=\"70\"/><span>Crime</span</td><td><img src=datasets/posters/19777.jpg width=\"70\" height=\"70\"/><span>Musical</span</td></table>"
      ],
      "text/plain": [
       "<IPython.core.display.HTML object>"
      ]
     },
     "metadata": {},
     "output_type": "display_data"
    }
   ],
   "source": [
    "markup = '<table>'\n",
    "\n",
    "for i, poster in enumerate(mini_batch_posters):\n",
    "    if i%12 == 0:\n",
    "        markup += '</tr/><tr>'\n",
    "\n",
    "    markup += '<td><img src=' + poster +' width=\"70\" height=\"70\"/><span>' + mini_batch_genre1[i] + '</span</td>'\n",
    "    \n",
    "markup += '</table>'\n",
    "\n",
    "display(HTML(markup))"
   ]
  },
  {
   "cell_type": "markdown",
   "metadata": {},
   "source": [
    "Inspect the dimensions of one of the posters"
   ]
  },
  {
   "cell_type": "code",
   "execution_count": 16,
   "metadata": {
    "collapsed": false
   },
   "outputs": [
    {
     "name": "stdout",
     "output_type": "stream",
     "text": [
      "Poster dimensions : (268, 182, 3)\n"
     ]
    }
   ],
   "source": [
    "sample_poster = np.array(PIL.Image.open(mini_batch_posters[0]))\n",
    "print(\"Poster dimensions :\", sample_poster.shape)"
   ]
  },
  {
   "cell_type": "markdown",
   "metadata": {},
   "source": [
    "Resize the posters as square images are nice to work with and also convert them into numpy arrays"
   ]
  },
  {
   "cell_type": "code",
   "execution_count": 17,
   "metadata": {
    "collapsed": false
   },
   "outputs": [
    {
     "name": "stdout",
     "output_type": "stream",
     "text": [
      "X shape:  (60, 3, 224, 224)\n",
      "y shape:  (60, 28)\n"
     ]
    }
   ],
   "source": [
    "X = np.array([np.array(PIL.Image.open(i).resize((224,224))).T for i in mini_batch_posters])\n",
    "X = X.transpose([0, 1, 3, 2])\n",
    "               \n",
    "template = np.concatenate((np.eye(num_classes), np.zeros((1, num_classes)))) \n",
    "\n",
    "y = template[mini_batch_genre1_ids] + template[mini_batch_genre2_ids] + template[mini_batch_genre3_ids]\n",
    " #np.array(mini_batch_genres)\n",
    "    \n",
    "print(\"X shape: \", X.shape)\n",
    "print(\"y shape: \", y.shape)"
   ]
  },
  {
   "cell_type": "markdown",
   "metadata": {},
   "source": [
    "### Model preparation"
   ]
  },
  {
   "cell_type": "markdown",
   "metadata": {},
   "source": [
    "#### 1. Partition the data into training and test sets"
   ]
  },
  {
   "cell_type": "code",
   "execution_count": 18,
   "metadata": {
    "collapsed": false
   },
   "outputs": [
    {
     "name": "stdout",
     "output_type": "stream",
     "text": [
      "X_train shape:  (42, 3, 224, 224)\n",
      "y_train shape:  (42, 28)\n",
      "X_test shape:  (18, 3, 224, 224)\n",
      "y_test shape:  (18, 28)\n"
     ]
    }
   ],
   "source": [
    "train_size = int(len(X)*TRAINING_SET_PROPORTION)\n",
    "\n",
    "X_train = X[:train_size]\n",
    "y_train= y[:train_size]\n",
    "\n",
    "X_test = X[train_size:]\n",
    "y_test= y[train_size:]\n",
    "\n",
    "print(\"X_train shape: \", X_train.shape)\n",
    "print(\"y_train shape: \", y_train.shape)\n",
    "print(\"X_test shape: \", X_test.shape)\n",
    "print(\"y_test shape: \", y_test.shape)"
   ]
  },
  {
   "cell_type": "markdown",
   "metadata": {},
   "source": [
    "Create Tensor objects for the training and test sets"
   ]
  },
  {
   "cell_type": "code",
   "execution_count": 19,
   "metadata": {
    "collapsed": false
   },
   "outputs": [],
   "source": [
    "X_train=torch.from_numpy(X_train).float()\n",
    "X_test=torch.from_numpy(X_test).float()\n",
    "y_train=torch.from_numpy(y_train)\n",
    "y_test=torch.from_numpy(y_test)\n",
    "\n",
    "train = data_utils.TensorDataset(X_train, y_train)\n",
    "train_loader = data_utils.DataLoader(train, batch_size=BATCH_SIZE, shuffle=True)\n",
    "\n",
    "test = data_utils.TensorDataset(X_test, y_test)\n",
    "test_loader = data_utils.DataLoader(test, batch_size=BATCH_SIZE, shuffle=False)\n",
    "\n",
    "dataset_sizes = {'train': len(train_loader), 'val': 0}"
   ]
  },
  {
   "cell_type": "markdown",
   "metadata": {},
   "source": [
    "Download a pretrained model and adapt it"
   ]
  },
  {
   "cell_type": "code",
   "execution_count": 20,
   "metadata": {
    "collapsed": false,
    "scrolled": true
   },
   "outputs": [
    {
     "name": "stdout",
     "output_type": "stream",
     "text": [
      "AlexNet Model AlexNet (\n",
      "  (features): Sequential (\n",
      "    (0): Conv2d(3, 64, kernel_size=(11, 11), stride=(4, 4), padding=(2, 2))\n",
      "    (1): ReLU (inplace)\n",
      "    (2): MaxPool2d (size=(3, 3), stride=(2, 2), dilation=(1, 1))\n",
      "    (3): Conv2d(64, 192, kernel_size=(5, 5), stride=(1, 1), padding=(2, 2))\n",
      "    (4): ReLU (inplace)\n",
      "    (5): MaxPool2d (size=(3, 3), stride=(2, 2), dilation=(1, 1))\n",
      "    (6): Conv2d(192, 384, kernel_size=(3, 3), stride=(1, 1), padding=(1, 1))\n",
      "    (7): ReLU (inplace)\n",
      "    (8): Conv2d(384, 256, kernel_size=(3, 3), stride=(1, 1), padding=(1, 1))\n",
      "    (9): ReLU (inplace)\n",
      "    (10): Conv2d(256, 256, kernel_size=(3, 3), stride=(1, 1), padding=(1, 1))\n",
      "    (11): ReLU (inplace)\n",
      "    (12): MaxPool2d (size=(3, 3), stride=(2, 2), dilation=(1, 1))\n",
      "  )\n",
      "  (classifier): Sequential (\n",
      "    (0): Dropout (p = 0.5)\n",
      "    (1): Linear (9216 -> 4096)\n",
      "    (2): ReLU (inplace)\n",
      "    (3): Dropout (p = 0.5)\n",
      "    (4): Linear (4096 -> 4096)\n",
      "    (5): ReLU (inplace)\n",
      "    (6): Linear (4096 -> 1000)\n",
      "  )\n",
      ")\n",
      "Custom Model AlexNet (\n",
      "  (features): Sequential (\n",
      "    (0): Conv2d(3, 64, kernel_size=(11, 11), stride=(4, 4), padding=(2, 2))\n",
      "    (1): ReLU (inplace)\n",
      "    (2): MaxPool2d (size=(3, 3), stride=(2, 2), dilation=(1, 1))\n",
      "    (3): Conv2d(64, 192, kernel_size=(5, 5), stride=(1, 1), padding=(2, 2))\n",
      "    (4): ReLU (inplace)\n",
      "    (5): MaxPool2d (size=(3, 3), stride=(2, 2), dilation=(1, 1))\n",
      "    (6): Conv2d(192, 384, kernel_size=(3, 3), stride=(1, 1), padding=(1, 1))\n",
      "    (7): ReLU (inplace)\n",
      "    (8): Conv2d(384, 256, kernel_size=(3, 3), stride=(1, 1), padding=(1, 1))\n",
      "    (9): ReLU (inplace)\n",
      "    (10): Conv2d(256, 256, kernel_size=(3, 3), stride=(1, 1), padding=(1, 1))\n",
      "    (11): ReLU (inplace)\n",
      "    (12): MaxPool2d (size=(3, 3), stride=(2, 2), dilation=(1, 1))\n",
      "  )\n",
      "  (classifier): Sequential (\n",
      "    (0): Dropout (p = 0.5)\n",
      "    (1): Linear (9216 -> 4096)\n",
      "    (2): ReLU (inplace)\n",
      "    (3): Dropout (p = 0.5)\n",
      "    (4): Linear (4096 -> 4096)\n",
      "    (5): ReLU (inplace)\n",
      "    (6): Linear (4096 -> 28)\n",
      "  )\n",
      ")\n"
     ]
    }
   ],
   "source": [
    "# Download a pretrained AlexNet model\n",
    "alexnet = models.alexnet(pretrained=True)\n",
    "model = alexnet\n",
    "print('AlexNet Model', model)\n",
    "\n",
    "# for param in model.parameters():\n",
    "#     param.requires_grad = False\n",
    "\n",
    "# Remove last layer\n",
    "new_classifier = nn.Sequential(*list(model.classifier.children())[:-1])\n",
    "model.classifier = new_classifier\n",
    "\n",
    "# Add custom layer to predict num_classes\n",
    "model.classifier._modules['6'] = nn.Linear(4096, num_classes)\n",
    "print('Custom Model', model)\n",
    "\n",
    "model.use_memory = False"
   ]
  },
  {
   "cell_type": "markdown",
   "metadata": {},
   "source": [
    "Define the parameters required for training the model"
   ]
  },
  {
   "cell_type": "code",
   "execution_count": 21,
   "metadata": {
    "collapsed": false
   },
   "outputs": [],
   "source": [
    "criterion = nn.MultiLabelSoftMarginLoss()\n",
    "\n",
    "# Define the appropriate image pre-processing function\n",
    "preprocessFn = transforms.Compose([transforms.Normalize(mean = [0.485, 0.456, 0.406], \n",
    "                                                        std=[0.229, 0.224, 0.225])])"
   ]
  },
  {
   "cell_type": "code",
   "execution_count": 22,
   "metadata": {
    "collapsed": true
   },
   "outputs": [],
   "source": [
    "def exp_lr_scheduler(optimizer, epoch, init_lr=0.001, lr_decay_epoch=7):\n",
    "    \"\"\"Decay learning rate by a factor of 0.1 every lr_decay_epoch epochs.\"\"\"\n",
    "    lr = init_lr * (0.1**(epoch // lr_decay_epoch))\n",
    "\n",
    "    if epoch % lr_decay_epoch == 0:\n",
    "        print('LR is set to {}'.format(lr))\n",
    "\n",
    "    for param_group in optimizer.param_groups:\n",
    "        param_group['lr'] = lr\n",
    "\n",
    "    return optimizer"
   ]
  },
  {
   "cell_type": "code",
   "execution_count": 29,
   "metadata": {
    "collapsed": false,
    "scrolled": false
   },
   "outputs": [],
   "source": [
    "def train_model(lr_scheduler):\n",
    "    since = time.time()\n",
    "\n",
    "    best_model = model\n",
    "    best_accuracy = 0.0\n",
    "\n",
    "    # Observe that all parameters are being optimized\n",
    "    optimizer = optim.Adam(model.parameters(), lr=LEARNING_RATE)\n",
    "\n",
    "    for epoch in range(NUM_EPOCHS):\n",
    "        print('Epoch {}/{}'.format(epoch, NUM_EPOCHS - 1))\n",
    "        print('-' * 10)\n",
    "\n",
    "        # Each epoch has a training and validation phase\n",
    "        for phase in ['train']:#, 'val']:\n",
    "            if phase == 'train':\n",
    "#                 optimizer = lr_scheduler(optimizer, epoch)\n",
    "                model.train(True)  # Set model to training mode\n",
    "            else:\n",
    "                model.train(False)  # Set model to evaluate mode\n",
    "\n",
    "            running_loss = 0.0\n",
    "            running_corrects = 0\n",
    "\n",
    "            # Iterate over data.\n",
    "            for batch_idx, (inputs, targets) in enumerate(train_loader):\n",
    "\n",
    "                if USE_GPU:\n",
    "                    inputs = Variable(preprocessFn(inputs).cuda())\n",
    "                    targets = Variable(target.cuda()).float()\n",
    "                else:\n",
    "                    inputs = Variable(preprocessFn(inputs))\n",
    "                    targets = Variable(targets).float()\n",
    "\n",
    "                # zero the parameter gradients\n",
    "                optimizer.zero_grad()\n",
    "\n",
    "                # forward\n",
    "                outputs = model(inputs)\n",
    "                _, preds = torch.max(outputs.data, 1)\n",
    "                i, max_targets = torch.max(targets.data, 1)\n",
    "        \n",
    "#                 outputs = nn.Softmax()(outputs)\n",
    "                loss = criterion(outputs, targets)\n",
    "                \n",
    "                # backward + optimize only if in training phase\n",
    "                if phase == 'train':\n",
    "                    loss.backward()\n",
    "                    optimizer.step()\n",
    "\n",
    "                # statistics\n",
    "                running_loss += loss.data[0]\n",
    "                running_corrects += torch.sum(preds == max_targets)\n",
    "\n",
    "            epoch_loss = running_loss / dataset_sizes[phase]\n",
    "            epoch_accuracy = running_corrects / dataset_sizes[phase]\n",
    "\n",
    "            print('{} loss: {:.4f} Accuracy: {:.4f}'.format(phase, epoch_loss, epoch_accuracy))\n",
    "\n",
    "            # deep copy the model\n",
    "            if phase == 'val' and epoch_accuracy > best_accuracy:\n",
    "                best_accuracy = epoch_accuracy\n",
    "                best_model = np.copy(model)\n",
    "\n",
    "        print('*' * 100)\n",
    "        \n",
    "    time_elapsed = time.time() - since\n",
    "    print('Training complete in {:.0f}m {:.0f}s'.format(\n",
    "        time_elapsed // 60, time_elapsed % 60))\n",
    "#     print('Best validation accuracy: {:4f}'.format(best_accuracy))\n",
    "#     return best_model"
   ]
  },
  {
   "cell_type": "code",
   "execution_count": 30,
   "metadata": {
    "collapsed": false,
    "scrolled": false
   },
   "outputs": [
    {
     "name": "stdout",
     "output_type": "stream",
     "text": [
      "Epoch 0/4\n",
      "----------\n",
      "train loss: 15.4536 Accuracy: 0.0000\n",
      "****************************************************************************************************\n",
      "Epoch 1/4\n",
      "----------\n",
      "train loss: 14.9800 Accuracy: 0.0000\n",
      "****************************************************************************************************\n",
      "Epoch 2/4\n",
      "----------\n",
      "train loss: 14.7235 Accuracy: 0.0000\n",
      "****************************************************************************************************\n",
      "Epoch 3/4\n",
      "----------\n",
      "train loss: 15.4734 Accuracy: 0.0000\n",
      "****************************************************************************************************\n",
      "Epoch 4/4\n",
      "----------\n",
      "train loss: 16.1247 Accuracy: 0.0000\n",
      "****************************************************************************************************\n",
      "Training complete in 0m 44s\n"
     ]
    }
   ],
   "source": [
    "model_ft = train_model(exp_lr_scheduler)"
   ]
  },
  {
   "cell_type": "code",
   "execution_count": null,
   "metadata": {
    "collapsed": true
   },
   "outputs": [],
   "source": []
  }
 ],
 "metadata": {
  "anaconda-cloud": {},
  "kernelspec": {
   "display_name": "Python [default]",
   "language": "python",
   "name": "python3"
  },
  "language_info": {
   "codemirror_mode": {
    "name": "ipython",
    "version": 3
   },
   "file_extension": ".py",
   "mimetype": "text/x-python",
   "name": "python",
   "nbconvert_exporter": "python",
   "pygments_lexer": "ipython3",
   "version": "3.5.2"
  }
 },
 "nbformat": 4,
 "nbformat_minor": 1
}
