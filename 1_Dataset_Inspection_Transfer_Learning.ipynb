{
 "cells": [
  {
   "cell_type": "code",
   "execution_count": 1,
   "metadata": {
    "collapsed": false
   },
   "outputs": [],
   "source": [
    "import csv\n",
    "import numpy as np\n",
    "import pandas as pd\n",
    "from sklearn.preprocessing import MultiLabelBinarizer \n",
    "\n",
    "import os\n",
    "\n",
    "from IPython.display import HTML, display\n",
    "\n",
    "import matplotlib.cm as cm\n",
    "import matplotlib.pyplot as plt\n",
    "\n",
    "import PIL\n",
    "from PIL import Image\n",
    "\n",
    "import torch\n",
    "import torch.utils.data as data_utils\n",
    "import torchvision.models as models\n",
    "from torch.nn.modules import CrossEntropyLoss, L1Loss\n",
    "import torch.optim as optim\n",
    "from torch.autograd import Variable\n",
    "from torchvision import datasets, transforms\n",
    "import torch.nn as nn\n",
    "\n",
    "import time"
   ]
  },
  {
   "cell_type": "markdown",
   "metadata": {},
   "source": [
    "#### Declaration of constants to be used in the notebook"
   ]
  },
  {
   "cell_type": "code",
   "execution_count": 2,
   "metadata": {
    "collapsed": true
   },
   "outputs": [],
   "source": [
    "DATA_PATH = 'datasets/'\n",
    "\n",
    "SAMPLE_MOVIE_POSTERS_PATH = DATA_PATH + 'posters/'\n",
    "MOVIE_GENRE_FILE = DATA_PATH + 'MovieGenre.csv'\n",
    "\n",
    "SAMPLE_DATASET_SIZE = 900\n",
    "\n",
    "TRAINING_SET_PROPORTION = 0.70\n",
    "\n",
    "BATCH_SIZE = 25\n",
    "LEARNING_RATE = 0.001\n",
    "NUM_EPOCHS = 50\n",
    "USE_GPU = False"
   ]
  },
  {
   "cell_type": "markdown",
   "metadata": {},
   "source": [
    "### Dataset Inspection"
   ]
  },
  {
   "cell_type": "markdown",
   "metadata": {},
   "source": [
    "#### 1. Movie Genres"
   ]
  },
  {
   "cell_type": "markdown",
   "metadata": {},
   "source": [
    "Read the Movie Genre file"
   ]
  },
  {
   "cell_type": "code",
   "execution_count": 3,
   "metadata": {
    "collapsed": true
   },
   "outputs": [],
   "source": [
    "data = []\n",
    "\n",
    "with open(MOVIE_GENRE_FILE, 'r', encoding='latin1') as f:\n",
    "    csv_reader = csv.reader(f)\n",
    "\n",
    "    for row in csv_reader:\n",
    "        data.append(row)"
   ]
  },
  {
   "cell_type": "markdown",
   "metadata": {},
   "source": [
    "Print the first few entries to inspect the structure of data"
   ]
  },
  {
   "cell_type": "code",
   "execution_count": null,
   "metadata": {
    "collapsed": false,
    "scrolled": true
   },
   "outputs": [],
   "source": [
    "data[0:5]"
   ]
  },
  {
   "cell_type": "markdown",
   "metadata": {},
   "source": [
    "Create a dataframe from the data, using the entries at the first index as the column headers"
   ]
  },
  {
   "cell_type": "code",
   "execution_count": 5,
   "metadata": {
    "collapsed": true
   },
   "outputs": [],
   "source": [
    "columns = data.pop(0)\n",
    "\n",
    "columns = list(map(lambda x: x.lower().replace(' ', '_'), columns))\n",
    "movie_genre_df = pd.DataFrame(data, columns=columns)"
   ]
  },
  {
   "cell_type": "markdown",
   "metadata": {},
   "source": [
    "Inspect the dataframe"
   ]
  },
  {
   "cell_type": "code",
   "execution_count": 6,
   "metadata": {
    "collapsed": false,
    "scrolled": true
   },
   "outputs": [
    {
     "data": {
      "text/plain": [
       "(40108, 6)"
      ]
     },
     "execution_count": 6,
     "metadata": {},
     "output_type": "execute_result"
    }
   ],
   "source": [
    "movie_genre_df.shape"
   ]
  },
  {
   "cell_type": "markdown",
   "metadata": {},
   "source": [
    "Drop duplicates from the dataframe and inspect again"
   ]
  },
  {
   "cell_type": "code",
   "execution_count": 7,
   "metadata": {
    "collapsed": false,
    "scrolled": true
   },
   "outputs": [],
   "source": [
    "movie_genre_df.drop_duplicates(inplace=True)"
   ]
  },
  {
   "cell_type": "code",
   "execution_count": 8,
   "metadata": {
    "collapsed": false,
    "scrolled": true
   },
   "outputs": [
    {
     "data": {
      "text/plain": [
       "(39515, 6)"
      ]
     },
     "execution_count": 8,
     "metadata": {},
     "output_type": "execute_result"
    }
   ],
   "source": [
    "movie_genre_df.shape"
   ]
  },
  {
   "cell_type": "code",
   "execution_count": null,
   "metadata": {
    "collapsed": false
   },
   "outputs": [],
   "source": [
    "movie_genre_df.head()"
   ]
  },
  {
   "cell_type": "markdown",
   "metadata": {},
   "source": [
    "Process the dataframe so that genres can be accessed easily further on "
   ]
  },
  {
   "cell_type": "code",
   "execution_count": 10,
   "metadata": {
    "collapsed": false,
    "scrolled": true
   },
   "outputs": [],
   "source": [
    "# Split genre to create a list of values \n",
    "movie_genre_df['genre'] = movie_genre_df['genre'].apply(lambda x: x.split('|'))\n",
    "\n",
    "# Expand genre into its own dataframe\n",
    "tags = movie_genre_df['genre'].apply(pd.Series).fillna('')\n",
    "\n",
    "# Rename the columns\n",
    "tags = tags.rename(columns = lambda x : 'genre_' + str(x))\n",
    "\n",
    "# Merge the genre dataframe back into the original dataframe\n",
    "movie_genre_df = pd.concat([movie_genre_df[:], tags[:]], axis=1)"
   ]
  },
  {
   "cell_type": "markdown",
   "metadata": {},
   "source": [
    "Inspect the dataframe"
   ]
  },
  {
   "cell_type": "code",
   "execution_count": 11,
   "metadata": {
    "collapsed": false,
    "scrolled": true
   },
   "outputs": [
    {
     "data": {
      "text/plain": [
       "(39515, 9)"
      ]
     },
     "execution_count": 11,
     "metadata": {},
     "output_type": "execute_result"
    }
   ],
   "source": [
    "movie_genre_df.shape"
   ]
  },
  {
   "cell_type": "code",
   "execution_count": 12,
   "metadata": {
    "collapsed": false,
    "scrolled": true
   },
   "outputs": [
    {
     "data": {
      "text/html": [
       "<div>\n",
       "<table border=\"1\" class=\"dataframe\">\n",
       "  <thead>\n",
       "    <tr style=\"text-align: right;\">\n",
       "      <th></th>\n",
       "      <th>imdbid</th>\n",
       "      <th>imdb_link</th>\n",
       "      <th>title</th>\n",
       "      <th>imdb_score</th>\n",
       "      <th>genre</th>\n",
       "      <th>poster</th>\n",
       "      <th>genre_0</th>\n",
       "      <th>genre_1</th>\n",
       "      <th>genre_2</th>\n",
       "    </tr>\n",
       "  </thead>\n",
       "  <tbody>\n",
       "    <tr>\n",
       "      <th>0</th>\n",
       "      <td>114709</td>\n",
       "      <td>http://www.imdb.com/title/tt114709</td>\n",
       "      <td>Toy Story (1995)</td>\n",
       "      <td>8.3</td>\n",
       "      <td>[Animation, Adventure, Comedy]</td>\n",
       "      <td>https://images-na.ssl-images-amazon.com/images...</td>\n",
       "      <td>Animation</td>\n",
       "      <td>Adventure</td>\n",
       "      <td>Comedy</td>\n",
       "    </tr>\n",
       "    <tr>\n",
       "      <th>1</th>\n",
       "      <td>113497</td>\n",
       "      <td>http://www.imdb.com/title/tt113497</td>\n",
       "      <td>Jumanji (1995)</td>\n",
       "      <td>6.9</td>\n",
       "      <td>[Action, Adventure, Family]</td>\n",
       "      <td>https://images-na.ssl-images-amazon.com/images...</td>\n",
       "      <td>Action</td>\n",
       "      <td>Adventure</td>\n",
       "      <td>Family</td>\n",
       "    </tr>\n",
       "    <tr>\n",
       "      <th>2</th>\n",
       "      <td>113228</td>\n",
       "      <td>http://www.imdb.com/title/tt113228</td>\n",
       "      <td>Grumpier Old Men (1995)</td>\n",
       "      <td>6.6</td>\n",
       "      <td>[Comedy, Romance]</td>\n",
       "      <td>https://images-na.ssl-images-amazon.com/images...</td>\n",
       "      <td>Comedy</td>\n",
       "      <td>Romance</td>\n",
       "      <td></td>\n",
       "    </tr>\n",
       "    <tr>\n",
       "      <th>3</th>\n",
       "      <td>114885</td>\n",
       "      <td>http://www.imdb.com/title/tt114885</td>\n",
       "      <td>Waiting to Exhale (1995)</td>\n",
       "      <td>5.7</td>\n",
       "      <td>[Comedy, Drama, Romance]</td>\n",
       "      <td>https://images-na.ssl-images-amazon.com/images...</td>\n",
       "      <td>Comedy</td>\n",
       "      <td>Drama</td>\n",
       "      <td>Romance</td>\n",
       "    </tr>\n",
       "    <tr>\n",
       "      <th>4</th>\n",
       "      <td>113041</td>\n",
       "      <td>http://www.imdb.com/title/tt113041</td>\n",
       "      <td>Father of the Bride Part II (1995)</td>\n",
       "      <td>5.9</td>\n",
       "      <td>[Comedy, Family, Romance]</td>\n",
       "      <td>https://images-na.ssl-images-amazon.com/images...</td>\n",
       "      <td>Comedy</td>\n",
       "      <td>Family</td>\n",
       "      <td>Romance</td>\n",
       "    </tr>\n",
       "  </tbody>\n",
       "</table>\n",
       "</div>"
      ],
      "text/plain": [
       "   imdbid                           imdb_link  \\\n",
       "0  114709  http://www.imdb.com/title/tt114709   \n",
       "1  113497  http://www.imdb.com/title/tt113497   \n",
       "2  113228  http://www.imdb.com/title/tt113228   \n",
       "3  114885  http://www.imdb.com/title/tt114885   \n",
       "4  113041  http://www.imdb.com/title/tt113041   \n",
       "\n",
       "                                title imdb_score  \\\n",
       "0                    Toy Story (1995)        8.3   \n",
       "1                      Jumanji (1995)        6.9   \n",
       "2             Grumpier Old Men (1995)        6.6   \n",
       "3            Waiting to Exhale (1995)        5.7   \n",
       "4  Father of the Bride Part II (1995)        5.9   \n",
       "\n",
       "                            genre  \\\n",
       "0  [Animation, Adventure, Comedy]   \n",
       "1     [Action, Adventure, Family]   \n",
       "2               [Comedy, Romance]   \n",
       "3        [Comedy, Drama, Romance]   \n",
       "4       [Comedy, Family, Romance]   \n",
       "\n",
       "                                              poster    genre_0    genre_1  \\\n",
       "0  https://images-na.ssl-images-amazon.com/images...  Animation  Adventure   \n",
       "1  https://images-na.ssl-images-amazon.com/images...     Action  Adventure   \n",
       "2  https://images-na.ssl-images-amazon.com/images...     Comedy    Romance   \n",
       "3  https://images-na.ssl-images-amazon.com/images...     Comedy      Drama   \n",
       "4  https://images-na.ssl-images-amazon.com/images...     Comedy     Family   \n",
       "\n",
       "   genre_2  \n",
       "0   Comedy  \n",
       "1   Family  \n",
       "2           \n",
       "3  Romance  \n",
       "4  Romance  "
      ]
     },
     "execution_count": 12,
     "metadata": {},
     "output_type": "execute_result"
    }
   ],
   "source": [
    "movie_genre_df.head()"
   ]
  },
  {
   "cell_type": "markdown",
   "metadata": {},
   "source": [
    "Retrieve the distribution of unique genres across all movies"
   ]
  },
  {
   "cell_type": "code",
   "execution_count": 13,
   "metadata": {
    "collapsed": false,
    "scrolled": true
   },
   "outputs": [],
   "source": [
    "# Get distribution of unique values from multiple genre columns\n",
    "# Remove the entry representing no genre\n",
    "# Get combined counts of unique genres\n",
    "\n",
    "genre_distribution = movie_genre_df[['genre_0', 'genre_1', 'genre_2']] \\\n",
    "            .apply(lambda s: s.value_counts()) \\\n",
    "            .drop('') \\\n",
    "            .sum(axis=1) \\\n",
    "            .reset_index()\n",
    "                \n",
    "# Rename the columns acordingly                \n",
    "genre_distribution.columns = ['genre', 'count']\n",
    "\n",
    "# Sort the dataframe to order by predominant genres \n",
    "genre_distribution = genre_distribution.sort_values(by='count', ascending=False).reset_index(drop=True)\n",
    "\n",
    "# Store the unique genres as a dictionary\n",
    "unique_genres = genre_distribution['genre'].tolist()\n",
    "unique_genres = {x: i for (i,x) in enumerate(unique_genres)}\n",
    "# unique_genres[''] = len(unique_genres)"
   ]
  },
  {
   "cell_type": "markdown",
   "metadata": {},
   "source": [
    "Visualise the distribution of genres across movies"
   ]
  },
  {
   "cell_type": "code",
   "execution_count": 14,
   "metadata": {
    "collapsed": false,
    "scrolled": false
   },
   "outputs": [
    {
     "data": {
      "image/png": "[encoded data removed]",
      "text/plain": [
       "<matplotlib.figure.Figure at 0x7f89fee65438>"
      ]
     },
     "execution_count": 14,
     "metadata": {},
     "output_type": "execute_result"
    }
   ],
   "source": [
    "genres_count = genre_distribution.shape[0]\n",
    "colors = cm.rainbow(np.linspace(0, 1, genres_count))\n",
    "\n",
    "\n",
    "plot = genre_distribution.plot(x='genre', y='count', kind='bar', width=0.8, rot=0, figsize=(15,6), \n",
    "                               color=colors, legend=None)\n",
    "\n",
    "plot.set_title('Movie Genres', fontweight='bold')\n",
    "\n",
    "plot.set_ylabel('Count of Movies')\n",
    "plot.set_xlabel('Movie Genre')\n",
    "\n",
    "plot.set_xticklabels(labels=genre_distribution['genre'], rotation=30)\n",
    "\n",
    "rects = plot.patches\n",
    "\n",
    "# Now make some labels\n",
    "labels = [int(genre_distribution['count'][i]) for i in range(len(rects))]\n",
    "\n",
    "for rect, label in zip(rects, labels):\n",
    "    height = rect.get_height()\n",
    "    plot.text(rect.get_x() + rect.get_width()/2, height + 5, label, ha='center', va='bottom')\n",
    "\n",
    "plot.get_figure() #.save_fig('')"
   ]
  },
  {
   "cell_type": "markdown",
   "metadata": {},
   "source": [
    "#### 2. Sample Movie Posters"
   ]
  },
  {
   "cell_type": "markdown",
   "metadata": {},
   "source": [
    "Create a list of the sample movie posters names by traversing the directory"
   ]
  },
  {
   "cell_type": "code",
   "execution_count": 15,
   "metadata": {
    "collapsed": false
   },
   "outputs": [
    {
     "name": "stdout",
     "output_type": "stream",
     "text": [
      "Number of sample movie posters = 997\n"
     ]
    }
   ],
   "source": [
    "poster_files = os.listdir(SAMPLE_MOVIE_POSTERS_PATH)\n",
    "\n",
    "imdb_ids = [i.split('.')[0] for i in poster_files]\n",
    "sample_movie_posters = [SAMPLE_MOVIE_POSTERS_PATH + i for i in poster_files]\n",
    "\n",
    "print(\"Number of sample movie posters =\", len(sample_movie_posters))"
   ]
  },
  {
   "cell_type": "markdown",
   "metadata": {},
   "source": [
    "Create a mini-batch of posters and associated genres."
   ]
  },
  {
   "cell_type": "code",
   "execution_count": 16,
   "metadata": {
    "collapsed": false
   },
   "outputs": [],
   "source": [
    "mini_batch_posters = sample_movie_posters[0:SAMPLE_DATASET_SIZE]\n",
    "mini_batch_imdb_ids = imdb_ids[0:SAMPLE_DATASET_SIZE]\n",
    "\n",
    "mini_batch_genres = movie_genre_df[movie_genre_df['imdbid'].isin(mini_batch_imdb_ids)]['genre'].tolist()\n",
    "\n",
    "num_classes = len(unique_genres)"
   ]
  },
  {
   "cell_type": "markdown",
   "metadata": {},
   "source": [
    "Visualise the sample movie posters"
   ]
  },
  {
   "cell_type": "code",
   "execution_count": 34,
   "metadata": {
    "collapsed": false,
    "scrolled": true
   },
   "outputs": [
    {
     "data": {
      "text/html": [
       "<table></tr/><tr><td><img src=datasets/posters/24262.jpg width=\"70\" height=\"70\"/><span>Drama,\n",
       "Romance</span</td><td><img src=datasets/posters/21885.jpg width=\"70\" height=\"70\"/><span>Comedy,\n",
       "Romance</span</td><td><img src=datasets/posters/19096.jpg width=\"70\" height=\"70\"/><span>Comedy,\n",
       "Musical,\n",
       "Romance</span</td><td><img src=datasets/posters/23326.jpg width=\"70\" height=\"70\"/><span>Drama</span</td><td><img src=datasets/posters/25440.jpg width=\"70\" height=\"70\"/><span>Drama,\n",
       "Romance</span</td><td><img src=datasets/posters/22676.jpg width=\"70\" height=\"70\"/><span>Drama,\n",
       "Romance,\n",
       "War</span</td><td><img src=datasets/posters/8874.jpg width=\"70\" height=\"70\"/><span>Comedy,\n",
       "Musical,\n",
       "War</span</td><td><img src=datasets/posters/24314.jpg width=\"70\" height=\"70\"/><span>Crime,\n",
       "Drama,\n",
       "Mystery</span</td><td><img src=datasets/posters/20114.jpg width=\"70\" height=\"70\"/><span>Fantasy,\n",
       "Horror</span</td><td><img src=datasets/posters/5060.jpg width=\"70\" height=\"70\"/><span>Drama,\n",
       "Romance,\n",
       "War</span</td><td><img src=datasets/posters/20142.jpg width=\"70\" height=\"70\"/><span>Drama,\n",
       "Musical,\n",
       "Romance</span</td><td><img src=datasets/posters/23800.jpg width=\"70\" height=\"70\"/><span>Drama,\n",
       "War</span</td></tr/><tr><td><img src=datasets/posters/19563.jpg width=\"70\" height=\"70\"/><span>Drama,\n",
       "Western</span</td><td><img src=datasets/posters/20945.jpg width=\"70\" height=\"70\"/><span>Drama,\n",
       "Romance</span</td><td><img src=datasets/posters/9440.jpg width=\"70\" height=\"70\"/><span>Drama,\n",
       "Romance,\n",
       "War</span</td><td><img src=datasets/posters/3419.jpg width=\"70\" height=\"70\"/><span>Drama,\n",
       "Sci-Fi</span</td><td><img src=datasets/posters/23180.jpg width=\"70\" height=\"70\"/><span>Animation,\n",
       "Family,\n",
       "Comedy</span</td><td><img src=datasets/posters/19237.jpg width=\"70\" height=\"70\"/><span>Crime,\n",
       "Mystery,\n",
       "Thriller</span</td><td><img src=datasets/posters/23396.jpg width=\"70\" height=\"70\"/><span>Biography,\n",
       "Music,\n",
       "Romance</span</td><td><img src=datasets/posters/20701.jpg width=\"70\" height=\"70\"/><span>Crime,\n",
       "Mystery,\n",
       "Thriller</span</td><td><img src=datasets/posters/22236.jpg width=\"70\" height=\"70\"/><span>Comedy,\n",
       "Romance,\n",
       "Thriller</span</td><td><img src=datasets/posters/23847.jpg width=\"70\" height=\"70\"/><span>Drama</span</td><td><img src=datasets/posters/14446.jpg width=\"70\" height=\"70\"/><span>Comedy,\n",
       "Musical</span</td><td><img src=datasets/posters/22807.jpg width=\"70\" height=\"70\"/><span>Comedy,\n",
       "Drama</span</td></table>"
      ],
      "text/plain": [
       "<IPython.core.display.HTML object>"
      ]
     },
     "metadata": {},
     "output_type": "display_data"
    }
   ],
   "source": [
    "markup = '<table>'\n",
    "\n",
    "for i, poster in enumerate(mini_batch_posters[0:24]):\n",
    "    if i%12 == 0:\n",
    "        markup += '</tr/><tr>'\n",
    "\n",
    "    markup += '<td><img src=' + poster +' width=\"70\" height=\"70\"/><span>' + ',\\n'.join(mini_batch_genres[i]) + '</span</td>'\n",
    "    \n",
    "markup += '</table>'\n",
    "\n",
    "display(HTML(markup))"
   ]
  },
  {
   "cell_type": "markdown",
   "metadata": {},
   "source": [
    "Inspect the dimensions of one of the posters"
   ]
  },
  {
   "cell_type": "code",
   "execution_count": 18,
   "metadata": {
    "collapsed": false
   },
   "outputs": [
    {
     "name": "stdout",
     "output_type": "stream",
     "text": [
      "Poster dimensions : (268, 182, 3)\n"
     ]
    }
   ],
   "source": [
    "sample_poster = np.array(PIL.Image.open(mini_batch_posters[0]))\n",
    "print(\"Poster dimensions :\", sample_poster.shape)"
   ]
  },
  {
   "cell_type": "markdown",
   "metadata": {},
   "source": [
    "Resize the posters as square images are nice to work with and also convert them into numpy arrays"
   ]
  },
  {
   "cell_type": "code",
   "execution_count": 19,
   "metadata": {
    "collapsed": true
   },
   "outputs": [],
   "source": [
    "normalize = transforms.Normalize(mean=[0.485, 0.456, 0.406],\n",
    "                                     std=[0.229, 0.224, 0.225])\n",
    "\n",
    "preprocessFn = transforms.Compose([\n",
    "        transforms.RandomSizedCrop(16)\n",
    "#         transforms.RandomHorizontalFlip(),\n",
    "#         transforms.ToTensor(),\n",
    "#         normalize\n",
    "])"
   ]
  },
  {
   "cell_type": "markdown",
   "metadata": {},
   "source": [
    "### Model preparation"
   ]
  },
  {
   "cell_type": "markdown",
   "metadata": {},
   "source": [
    "#### 1. Partition the data into training and test sets"
   ]
  },
  {
   "cell_type": "code",
   "execution_count": 20,
   "metadata": {
    "collapsed": false
   },
   "outputs": [
    {
     "name": "stdout",
     "output_type": "stream",
     "text": [
      "X_train shape:  torch.Size([630, 3, 16, 16])\n",
      "y_train shape:  torch.Size([630, 28])\n",
      "X_test shape:  torch.Size([270, 3, 16, 16])\n",
      "y_test shape:  torch.Size([270, 28])\n"
     ]
    }
   ],
   "source": [
    "train_size = int(len(mini_batch_posters)*TRAINING_SET_PROPORTION)\n",
    "\n",
    "train_posters = mini_batch_posters[:train_size]\n",
    "test_posters = mini_batch_posters[train_size:]\n",
    "\n",
    "multi_label_binarizer = MultiLabelBinarizer(list(unique_genres.keys()))\n",
    "y = multi_label_binarizer.fit_transform(mini_batch_genres)\n",
    "y_train = torch.from_numpy(y[:train_size])\n",
    "y_test = torch.from_numpy(y[train_size:])\n",
    "\n",
    "# X_train_temp = [preprocessFn(PIL.Image.open(i)).unsqueeze(0) for i in train_posters]\n",
    "X_train_temp = [torch.from_numpy(np.transpose(np.array(preprocessFn(PIL.Image.open(i))).T, (0,2,1))).float().unsqueeze(0) for i in train_posters]\n",
    "\n",
    "for i, x in enumerate(X_train_temp):\n",
    "    if i == 0:\n",
    "        X_train = x\n",
    "    else:\n",
    "        X_train = torch.cat((X_train, x), 0)\n",
    "    \n",
    "# X_test_temp = [preprocessFn(PIL.Image.open(i)).unsqueeze(0) for i in test_posters]\n",
    "X_test_temp = [torch.from_numpy(np.transpose(np.array(preprocessFn(PIL.Image.open(i))).T, (0,2,1))).float().unsqueeze(0) for i in test_posters]\n",
    "\n",
    "for i, x in enumerate(X_test_temp):\n",
    "    if i == 0:\n",
    "        X_test = x\n",
    "    else:\n",
    "        X_test = torch.cat((X_test, x), 0)\n",
    "\n",
    "print(\"X_train shape: \", X_train.size())\n",
    "print(\"y_train shape: \", y_train.size())\n",
    "print(\"X_test shape: \", X_test.size())\n",
    "print(\"y_test shape: \", y_test.size())"
   ]
  },
  {
   "cell_type": "markdown",
   "metadata": {},
   "source": [
    "Create Tensor objects for the training and test sets"
   ]
  },
  {
   "cell_type": "code",
   "execution_count": 21,
   "metadata": {
    "collapsed": false,
    "scrolled": true
   },
   "outputs": [],
   "source": [
    "train = data_utils.TensorDataset(X_train, y_train)\n",
    "\n",
    "# Use weight-sampling to account for class-imbalance\n",
    "class_sample_count = [int(genre_distribution[genre_distribution['genre'] == x]['count'].values[0]) \\\n",
    "                          for x in multi_label_binarizer.classes]\n",
    "weights = (1 / torch.Tensor(class_sample_count)).double()\n",
    "sampler = data_utils.sampler.WeightedRandomSampler(weights, BATCH_SIZE)\n",
    "train_loader = data_utils.DataLoader(train, batch_size=BATCH_SIZE, shuffle=True, sampler = sampler)\n",
    "\n",
    "test = data_utils.TensorDataset(X_test, y_test)\n",
    "test_loader = data_utils.DataLoader(test, batch_size=BATCH_SIZE, shuffle=False)\n",
    "\n",
    "dataset_sizes = {'train': len(train), 'val': 0}"
   ]
  },
  {
   "cell_type": "markdown",
   "metadata": {},
   "source": [
    "Download a pretrained model and adapt it"
   ]
  },
  {
   "cell_type": "code",
   "execution_count": null,
   "metadata": {
    "collapsed": false,
    "scrolled": true
   },
   "outputs": [],
   "source": [
    "# Download a pretrained AlexNet model\n",
    "# alexnet = models.alexnet(pretrained=True)\n",
    "# vggnet = models.vgg16(pretrained=True)\n",
    "resnet = models.resnet152(pretrained=True)\n",
    "model = resnet\n",
    "print('ResNet Model', model)\n",
    "\n",
    "for param in model.parameters():\n",
    "    param.requires_grad = False\n",
    "\n",
    "# Remove last layer\n",
    "# new_classifier = nn.Sequential(*list(model.classifier.children())[:-1])\n",
    "# model.classifier = new_classifier\n",
    "\n",
    "# Add custom layer to predict num_classes\n",
    "# model.classifier._modules['7'] = nn.ReLU(inplace=True)\n",
    "# model.classifier._modules['8'] = nn.Dropout(p = 0.5)\n",
    "# model.classifier._modules['9'] = nn.Linear(1000, num_classes)\n",
    "# model.classifier._modules['10'] = nn.Softmax()\n",
    "\n",
    "# print('Custom Model', model)\n",
    "\n",
    "# model.use_memory = False"
   ]
  },
  {
   "cell_type": "code",
   "execution_count": 23,
   "metadata": {
    "collapsed": false
   },
   "outputs": [],
   "source": [
    "model.avgpool = nn.AdaptiveAvgPool2d(1)\n",
    "model.fc = nn.Linear(model.fc.in_features, num_classes)\n",
    "# model.add_module('fc_custom', nn.Linear(model.fc.out_features, num_classes))\n",
    "# model.add_module('softmax', nn.Softmax())\n",
    "\n",
    "# criterion = nn.CrossEntropyLoss()\n",
    "criterion = nn.MultiLabelSoftMarginLoss()\n",
    "\n",
    "# Observe that all parameters are being optimized\n",
    "# optimizer = optim.SGD(model_conv.fc.parameters(), lr=0.001, momentum=0.9)\n",
    "# optimizer = optim.SGD(filter(lambda p: p.requires_grad, model.parameters()), lr=LEARNING_RATE, momentum=0.9)\n",
    "# optimizer = optim.Adam(model.fc.parameters())\n",
    "\n",
    "phase = 'train'"
   ]
  },
  {
   "cell_type": "markdown",
   "metadata": {},
   "source": [
    "Define the parameters required for training the model"
   ]
  },
  {
   "cell_type": "code",
   "execution_count": 24,
   "metadata": {
    "collapsed": true
   },
   "outputs": [],
   "source": [
    "class CustomNet(nn.Module):\n",
    "    def __init__(self, model):\n",
    "        \"\"\"\n",
    "        In the constructor we instantiate two nn.Linear modules and assign them as\n",
    "        member variables.\n",
    "        \"\"\"\n",
    "        super(CustomNet, self).__init__()\n",
    "        self.model = model\n",
    "\n",
    "    def forward(self, x):\n",
    "        \"\"\"\n",
    "        In the forward function we accept a Variable of input data and we must return\n",
    "        a Variable of output data. We can use Modules defined in the constructor as\n",
    "        well as arbitrary operators on Variables.\n",
    "        \"\"\"\n",
    "        x = self.model(x)\n",
    "        x = nn.functional.softmax(x)\n",
    "        return x"
   ]
  },
  {
   "cell_type": "code",
   "execution_count": 25,
   "metadata": {
    "collapsed": false,
    "scrolled": false
   },
   "outputs": [],
   "source": [
    "def train_model(model):\n",
    "    since = time.time()\n",
    "    loss_history = []\n",
    "    \n",
    "    model.train(True)  # Set model to training mode\n",
    "\n",
    "    for epoch in range(NUM_EPOCHS):\n",
    "        print('Epoch {}/{}'.format(epoch, NUM_EPOCHS - 1))\n",
    "        print('-' * 10)\n",
    "\n",
    "        running_loss = []\n",
    "\n",
    "        # Iterate over data.\n",
    "        for batch_idx, (inputs, targets) in enumerate(train_loader):\n",
    "\n",
    "            inputs = Variable(inputs)\n",
    "            targets = Variable(targets).float()\n",
    "\n",
    "            # zero the parameter gradients\n",
    "            optimizer.zero_grad()\n",
    "\n",
    "            # forward\n",
    "            outputs = model(inputs)\n",
    "#             if epoch == NUM_EPOCHS - 2:\n",
    "#             print('targets:', targets.data, 'outputs:', outputs.data)\n",
    "            loss = criterion(outputs, targets)\n",
    "\n",
    "            loss.backward()\n",
    "            optimizer.step()\n",
    "\n",
    "            running_loss.append(loss.data[0])\n",
    "\n",
    "        epoch_loss = np.mean(running_loss)\n",
    "        loss_history.append(epoch_loss)\n",
    "\n",
    "        print('{} loss: {:.4f}'.format(phase, epoch_loss))\n",
    "        print('*' * 100)\n",
    "        \n",
    "    time_elapsed = time.time() - since\n",
    "    print('Training complete in {:.0f}m {:.0f}s'.format(time_elapsed // 60, time_elapsed % 60))\n",
    "    \n",
    "    return loss_history, targets.data, outputs.data"
   ]
  },
  {
   "cell_type": "code",
   "execution_count": 26,
   "metadata": {
    "collapsed": false,
    "scrolled": false
   },
   "outputs": [],
   "source": [
    "def test_model(model):\n",
    "    since = time.time()\n",
    "    loss_history = []\n",
    "    total_num_labels = 0\n",
    "    preds_correct = 0\n",
    "    \n",
    "    model.train(False)  # Set model to training mode\n",
    "\n",
    "    running_loss = []\n",
    "\n",
    "    # Iterate over data.\n",
    "    for batch_idx, (inputs, targets) in enumerate(test_loader):\n",
    "\n",
    "        inputs = Variable(inputs)\n",
    "        targets = Variable(targets).float()\n",
    "\n",
    "        # forward\n",
    "        outputs = model(inputs)\n",
    "        \n",
    "        for i, t in enumerate(targets.data):\n",
    "            labels = t.nonzero()[:,0].tolist()\n",
    "            num_labels = len(labels)\n",
    "            j, preds = outputs.data[i].topk(num_labels)\n",
    "            preds = [p for k, p in enumerate(preds) if j[k] != 0]\n",
    "            preds_correct += len(set(preds).intersection(labels))\n",
    "            total_num_labels += num_labels\n",
    "\n",
    "    accuracy = preds_correct / total_num_labels\n",
    "    print('Accuracy: ', accuracy)\n",
    "    time_elapsed = time.time() - since\n",
    "    print('Testing complete in {:.0f}m {:.0f}s'.format(time_elapsed // 60, time_elapsed % 60))\n",
    "    \n",
    "    return accuracy, targets.data, outputs.data"
   ]
  },
  {
   "cell_type": "markdown",
   "metadata": {},
   "source": [
    "Create a model with custom network architecture"
   ]
  },
  {
   "cell_type": "code",
   "execution_count": null,
   "metadata": {
    "collapsed": false,
    "scrolled": true
   },
   "outputs": [],
   "source": [
    "custom_model = CustomNet(model)\n",
    "print('Custom Model', custom_model)\n",
    "\n",
    "optimizer = optim.Adam(custom_model.model.fc.parameters(), lr=LEARNING_RATE, weight_decay=0.1)"
   ]
  },
  {
   "cell_type": "markdown",
   "metadata": {},
   "source": [
    "Train the model"
   ]
  },
  {
   "cell_type": "code",
   "execution_count": 28,
   "metadata": {
    "collapsed": false,
    "scrolled": true
   },
   "outputs": [
    {
     "name": "stdout",
     "output_type": "stream",
     "text": [
      "Epoch 0/49\n",
      "----------\n",
      "train loss: 0.7080\n",
      "****************************************************************************************************\n",
      "Epoch 1/49\n",
      "----------\n",
      "train loss: 0.7075\n",
      "****************************************************************************************************\n",
      "Epoch 2/49\n",
      "----------\n",
      "train loss: 0.7074\n",
      "****************************************************************************************************\n",
      "Epoch 3/49\n",
      "----------\n",
      "train loss: 0.7071\n",
      "****************************************************************************************************\n",
      "Epoch 4/49\n",
      "----------\n",
      "train loss: 0.7071\n",
      "****************************************************************************************************\n",
      "Epoch 5/49\n",
      "----------\n",
      "train loss: 0.7066\n",
      "****************************************************************************************************\n",
      "Epoch 6/49\n",
      "----------\n",
      "train loss: 0.7063\n",
      "****************************************************************************************************\n",
      "Epoch 7/49\n",
      "----------\n",
      "train loss: 0.7053\n",
      "****************************************************************************************************\n",
      "Epoch 8/49\n",
      "----------\n",
      "train loss: 0.7065\n",
      "****************************************************************************************************\n",
      "Epoch 9/49\n",
      "----------\n",
      "train loss: 0.7034\n",
      "****************************************************************************************************\n",
      "Epoch 10/49\n",
      "----------\n",
      "train loss: 0.7023\n",
      "****************************************************************************************************\n",
      "Epoch 11/49\n",
      "----------\n",
      "train loss: 0.7042\n",
      "****************************************************************************************************\n",
      "Epoch 12/49\n",
      "----------\n",
      "train loss: 0.7039\n",
      "****************************************************************************************************\n",
      "Epoch 13/49\n",
      "----------\n",
      "train loss: 0.7031\n",
      "****************************************************************************************************\n",
      "Epoch 14/49\n",
      "----------\n",
      "train loss: 0.7009\n",
      "****************************************************************************************************\n",
      "Epoch 15/49\n",
      "----------\n",
      "train loss: 0.6995\n",
      "****************************************************************************************************\n",
      "Epoch 16/49\n",
      "----------\n",
      "train loss: 0.7005\n",
      "****************************************************************************************************\n",
      "Epoch 17/49\n",
      "----------\n",
      "train loss: 0.7016\n",
      "****************************************************************************************************\n",
      "Epoch 18/49\n",
      "----------\n",
      "train loss: 0.6982\n",
      "****************************************************************************************************\n",
      "Epoch 19/49\n",
      "----------\n",
      "train loss: 0.6987\n",
      "****************************************************************************************************\n",
      "Epoch 20/49\n",
      "----------\n",
      "train loss: 0.6957\n",
      "****************************************************************************************************\n",
      "Epoch 21/49\n",
      "----------\n",
      "train loss: 0.6941\n",
      "****************************************************************************************************\n",
      "Epoch 22/49\n",
      "----------\n",
      "train loss: 0.6979\n",
      "****************************************************************************************************\n",
      "Epoch 23/49\n",
      "----------\n",
      "train loss: 0.6961\n",
      "****************************************************************************************************\n",
      "Epoch 24/49\n",
      "----------\n",
      "train loss: 0.6985\n",
      "****************************************************************************************************\n",
      "Epoch 25/49\n",
      "----------\n",
      "train loss: 0.6957\n",
      "****************************************************************************************************\n",
      "Epoch 26/49\n",
      "----------\n",
      "train loss: 0.6939\n",
      "****************************************************************************************************\n",
      "Epoch 27/49\n",
      "----------\n",
      "train loss: 0.7015\n",
      "****************************************************************************************************\n",
      "Epoch 28/49\n",
      "----------\n",
      "train loss: 0.6989\n",
      "****************************************************************************************************\n",
      "Epoch 29/49\n",
      "----------\n",
      "train loss: 0.7010\n",
      "****************************************************************************************************\n",
      "Epoch 30/49\n",
      "----------\n",
      "train loss: 0.6989\n",
      "****************************************************************************************************\n",
      "Epoch 31/49\n",
      "----------\n",
      "train loss: 0.6943\n",
      "****************************************************************************************************\n",
      "Epoch 32/49\n",
      "----------\n",
      "train loss: 0.6963\n",
      "****************************************************************************************************\n",
      "Epoch 33/49\n",
      "----------\n",
      "train loss: 0.6977\n",
      "****************************************************************************************************\n",
      "Epoch 34/49\n",
      "----------\n",
      "train loss: 0.6953\n",
      "****************************************************************************************************\n",
      "Epoch 35/49\n",
      "----------\n",
      "train loss: 0.6964\n",
      "****************************************************************************************************\n",
      "Epoch 36/49\n",
      "----------\n",
      "train loss: 0.6953\n",
      "****************************************************************************************************\n",
      "Epoch 37/49\n",
      "----------\n",
      "train loss: 0.6903\n",
      "****************************************************************************************************\n",
      "Epoch 38/49\n",
      "----------\n",
      "train loss: 0.7015\n",
      "****************************************************************************************************\n",
      "Epoch 39/49\n",
      "----------\n",
      "train loss: 0.6901\n",
      "****************************************************************************************************\n",
      "Epoch 40/49\n",
      "----------\n",
      "train loss: 0.6938\n",
      "****************************************************************************************************\n",
      "Epoch 41/49\n",
      "----------\n",
      "train loss: 0.6952\n",
      "****************************************************************************************************\n",
      "Epoch 42/49\n",
      "----------\n",
      "train loss: 0.6914\n",
      "****************************************************************************************************\n",
      "Epoch 43/49\n",
      "----------\n",
      "train loss: 0.6983\n",
      "****************************************************************************************************\n",
      "Epoch 44/49\n",
      "----------\n",
      "train loss: 0.6980\n",
      "****************************************************************************************************\n",
      "Epoch 45/49\n",
      "----------\n",
      "train loss: 0.6995\n",
      "****************************************************************************************************\n",
      "Epoch 46/49\n",
      "----------\n",
      "train loss: 0.6929\n",
      "****************************************************************************************************\n",
      "Epoch 47/49\n",
      "----------\n",
      "train loss: 0.6930\n",
      "****************************************************************************************************\n",
      "Epoch 48/49\n",
      "----------\n",
      "train loss: 0.6966\n",
      "****************************************************************************************************\n",
      "Epoch 49/49\n",
      "----------\n",
      "train loss: 0.6949\n",
      "****************************************************************************************************\n",
      "Training complete in 0m 27s\n"
     ]
    }
   ],
   "source": [
    "loss_history, targets, outputs = train_model(custom_model)"
   ]
  },
  {
   "cell_type": "markdown",
   "metadata": {},
   "source": [
    "Visualise the training loss over epochs"
   ]
  },
  {
   "cell_type": "code",
   "execution_count": 33,
   "metadata": {
    "collapsed": false
   },
   "outputs": [
    {
     "data": {
      "image/png": "[encoded data removed]",
      "text/plain": [
       "<matplotlib.figure.Figure at 0x7f89fa1766d8>"
      ]
     },
     "metadata": {},
     "output_type": "display_data"
    }
   ],
   "source": [
    "plt.gcf().clear()\n",
    "plt.plot(np.arange(0, NUM_EPOCHS), loss_history)\n",
    "\n",
    "plt.xlabel('Epoch')\n",
    "plt.ylabel('Training Loss')\n",
    "plt.title('Loss history over epochs')\n",
    "plt.grid(True)\n",
    "plt.show()"
   ]
  },
  {
   "cell_type": "markdown",
   "metadata": {},
   "source": [
    "Use the model to get predictions on the test set"
   ]
  },
  {
   "cell_type": "code",
   "execution_count": 30,
   "metadata": {
    "collapsed": false,
    "scrolled": true
   },
   "outputs": [
    {
     "name": "stdout",
     "output_type": "stream",
     "text": [
      "Accuracy:  0.29313543599257885\n",
      "Testing complete in 0m 5s\n"
     ]
    }
   ],
   "source": [
    "accuracy, targets, outputs = test_model(custom_model)"
   ]
  },
  {
   "cell_type": "code",
   "execution_count": 31,
   "metadata": {
    "collapsed": false,
    "scrolled": true
   },
   "outputs": [
    {
     "data": {
      "text/plain": [
       "\n",
       "\n",
       "Columns 0 to 12 \n",
       "    0     0     0     0     1     1     0     0     0     0     0     0     0\n",
       "    0     1     0     0     0     1     0     0     0     0     0     0     0\n",
       "    0     0     0     0     0     0     0     0     0     0     0     0     0\n",
       "    0     0     0     0     0     0     0     0     0     0     0     0     0\n",
       "    0     0     0     0     0     1     0     0     0     0     0     0     0\n",
       "    0     0     0     0     0     1     0     0     0     0     0     0     0\n",
       "    0     0     0     0     0     0     0     0     0     0     0     0     0\n",
       "    0     0     0     0     0     1     0     0     0     0     0     0     0\n",
       "    0     0     0     0     0     0     0     0     0     0     0     0     0\n",
       "    0     0     0     0     0     1     1     0     0     0     0     0     0\n",
       "    0     1     0     0     0     0     0     0     0     0     0     0     0\n",
       "    0     1     0     0     0     0     0     0     0     0     0     0     0\n",
       "    0     1     0     0     0     0     0     0     0     0     0     0     0\n",
       "    0     0     0     0     0     1     0     0     0     0     0     0     0\n",
       "    0     0     0     0     0     0     0     0     0     0     0     0     0\n",
       "    1     1     0     0     0     0     0     0     0     0     0     0     0\n",
       "    1     1     0     0     0     0     0     0     0     0     0     0     0\n",
       "    0     1     0     0     0     0     0     0     0     0     0     0     0\n",
       "    0     0     0     0     0     1     0     0     0     0     0     0     0\n",
       "    0     0     0     0     0     1     0     0     0     0     0     0     0\n",
       "\n",
       "Columns 13 to 25 \n",
       "    1     0     0     0     0     0     0     0     0     0     0     0     0\n",
       "    0     0     0     0     0     0     0     0     0     0     0     0     0\n",
       "    0     0     0     0     0     0     1     0     0     0     0     0     0\n",
       "    0     0     0     0     1     0     0     0     0     0     0     0     0\n",
       "    0     0     0     0     0     0     0     0     0     0     0     0     0\n",
       "    0     0     0     0     0     1     0     0     0     0     0     0     0\n",
       "    1     0     0     1     0     1     0     0     0     0     0     0     0\n",
       "    0     0     0     0     0     0     0     0     0     0     0     0     0\n",
       "    0     0     0     0     0     0     1     0     0     0     0     0     0\n",
       "    0     0     0     0     0     0     0     0     0     0     0     0     0\n",
       "    0     0     0     0     1     0     0     0     0     0     0     0     0\n",
       "    0     0     0     0     0     0     1     0     0     0     0     0     0\n",
       "    0     0     0     0     0     0     1     0     0     0     0     0     0\n",
       "    0     0     0     0     0     0     0     0     0     0     0     0     0\n",
       "    0     0     0     0     1     0     0     1     0     0     0     0     0\n",
       "    0     0     0     0     1     0     0     0     0     0     0     0     0\n",
       "    0     0     0     0     1     0     0     0     0     0     0     0     0\n",
       "    0     0     0     0     1     0     0     0     0     0     0     0     0\n",
       "    0     0     0     0     0     0     0     0     0     0     0     0     0\n",
       "    0     0     0     0     0     0     0     0     0     0     0     0     0\n",
       "\n",
       "Columns 26 to 27 \n",
       "    0     0\n",
       "    0     0\n",
       "    0     0\n",
       "    0     0\n",
       "    1     0\n",
       "    0     0\n",
       "    0     0\n",
       "    1     0\n",
       "    0     0\n",
       "    0     0\n",
       "    0     1\n",
       "    0     0\n",
       "    0     0\n",
       "    0     0\n",
       "    0     0\n",
       "    0     0\n",
       "    0     0\n",
       "    0     0\n",
       "    0     0\n",
       "    1     0\n",
       "[torch.FloatTensor of size 20x28]"
      ]
     },
     "execution_count": 31,
     "metadata": {},
     "output_type": "execute_result"
    }
   ],
   "source": [
    "targets"
   ]
  },
  {
   "cell_type": "code",
   "execution_count": 32,
   "metadata": {
    "collapsed": false,
    "scrolled": true
   },
   "outputs": [
    {
     "data": {
      "text/plain": [
       "\n",
       "\n",
       "Columns 0 to 9 \n",
       " 0.0000  0.0000  0.0000  0.0000  0.0000  1.0000  0.0000  0.0000  0.0000  0.0000\n",
       " 0.0000  0.0000  0.0000  0.0000  0.0000  1.0000  0.0000  0.0000  0.0000  0.0000\n",
       " 0.0000  0.0000  0.0000  0.0000  0.0000  1.0000  0.0000  0.0000  0.0000  0.0000\n",
       " 0.0000  0.0000  0.0000  0.0000  0.0000  1.0000  0.0000  0.0000  0.0000  0.0000\n",
       " 0.0000  0.0000  0.0000  0.0000  0.0000  1.0000  0.0000  0.0000  0.0000  0.0000\n",
       " 0.0000  0.0000  0.0000  0.0000  0.0000  1.0000  0.0000  0.0000  0.0000  0.0000\n",
       " 0.0000  0.0000  0.0000  0.0000  0.0000  1.0000  0.0000  0.0000  0.0000  0.0000\n",
       " 0.0000  0.0000  0.0000  0.0000  0.0000  1.0000  0.0000  0.0000  0.0000  0.0000\n",
       " 0.0000  0.0000  0.0000  0.0000  0.0000  1.0000  0.0000  0.0000  0.0000  0.0000\n",
       " 0.0000  0.0000  0.0000  0.0000  0.0000  1.0000  0.0000  0.0000  0.0000  0.0000\n",
       " 0.0000  0.0000  0.0000  0.0000  0.0000  1.0000  0.0000  0.0000  0.0000  0.0000\n",
       " 0.0000  0.0000  0.0000  0.0000  0.0000  1.0000  0.0000  0.0000  0.0000  0.0000\n",
       " 0.0000  0.0000  0.0000  0.0000  0.0000  1.0000  0.0000  0.0000  0.0000  0.0000\n",
       " 0.0000  0.0000  0.0000  0.0000  0.0000  1.0000  0.0000  0.0000  0.0000  0.0000\n",
       " 0.0000  0.0000  0.0000  0.0000  0.0000  1.0000  0.0000  0.0000  0.0000  0.0000\n",
       " 0.0000  0.0000  0.0000  0.0000  0.0000  1.0000  0.0000  0.0000  0.0000  0.0000\n",
       " 0.0000  0.0000  0.0000  0.0000  0.0000  1.0000  0.0000  0.0000  0.0000  0.0000\n",
       " 0.0000  0.0000  0.0000  0.0000  0.0000  1.0000  0.0000  0.0000  0.0000  0.0000\n",
       " 0.0000  0.0000  0.0000  0.0000  0.0000  1.0000  0.0000  0.0000  0.0000  0.0000\n",
       " 0.0000  0.0000  0.0000  0.0000  0.0000  1.0000  0.0000  0.0000  0.0000  0.0000\n",
       "\n",
       "Columns 10 to 19 \n",
       " 0.0000  0.0000  0.0000  0.0000  0.0000  0.0000  0.0000  0.0000  0.0000  0.0000\n",
       " 0.0000  0.0000  0.0000  0.0000  0.0000  0.0000  0.0000  0.0000  0.0000  0.0000\n",
       " 0.0000  0.0000  0.0000  0.0000  0.0000  0.0000  0.0000  0.0000  0.0000  0.0000\n",
       " 0.0000  0.0000  0.0000  0.0000  0.0000  0.0000  0.0000  0.0000  0.0000  0.0000\n",
       " 0.0000  0.0000  0.0000  0.0000  0.0000  0.0000  0.0000  0.0000  0.0000  0.0000\n",
       " 0.0000  0.0000  0.0000  0.0000  0.0000  0.0000  0.0000  0.0000  0.0000  0.0000\n",
       " 0.0000  0.0000  0.0000  0.0000  0.0000  0.0000  0.0000  0.0000  0.0000  0.0000\n",
       " 0.0000  0.0000  0.0000  0.0000  0.0000  0.0000  0.0000  0.0000  0.0000  0.0000\n",
       " 0.0000  0.0000  0.0000  0.0000  0.0000  0.0000  0.0000  0.0000  0.0000  0.0000\n",
       " 0.0000  0.0000  0.0000  0.0000  0.0000  0.0000  0.0000  0.0000  0.0000  0.0000\n",
       " 0.0000  0.0000  0.0000  0.0000  0.0000  0.0000  0.0000  0.0000  0.0000  0.0000\n",
       " 0.0000  0.0000  0.0000  0.0000  0.0000  0.0000  0.0000  0.0000  0.0000  0.0000\n",
       " 0.0000  0.0000  0.0000  0.0000  0.0000  0.0000  0.0000  0.0000  0.0000  0.0000\n",
       " 0.0000  0.0000  0.0000  0.0000  0.0000  0.0000  0.0000  0.0000  0.0000  0.0000\n",
       " 0.0000  0.0000  0.0000  0.0000  0.0000  0.0000  0.0000  0.0000  0.0000  0.0000\n",
       " 0.0000  0.0000  0.0000  0.0000  0.0000  0.0000  0.0000  0.0000  0.0000  0.0000\n",
       " 0.0000  0.0000  0.0000  0.0000  0.0000  0.0000  0.0000  0.0000  0.0000  0.0000\n",
       " 0.0000  0.0000  0.0000  0.0000  0.0000  0.0000  0.0000  0.0000  0.0000  0.0000\n",
       " 0.0000  0.0000  0.0000  0.0000  0.0000  0.0000  0.0000  0.0000  0.0000  0.0000\n",
       " 0.0000  0.0000  0.0000  0.0000  0.0000  0.0000  0.0000  0.0000  0.0000  0.0000\n",
       "\n",
       "Columns 20 to 27 \n",
       " 0.0000  0.0000  0.0000  0.0000  0.0000  0.0000  0.0000  0.0000\n",
       " 0.0000  0.0000  0.0000  0.0000  0.0000  0.0000  0.0000  0.0000\n",
       " 0.0000  0.0000  0.0000  0.0000  0.0000  0.0000  0.0000  0.0000\n",
       " 0.0000  0.0000  0.0000  0.0000  0.0000  0.0000  0.0000  0.0000\n",
       " 0.0000  0.0000  0.0000  0.0000  0.0000  0.0000  0.0000  0.0000\n",
       " 0.0000  0.0000  0.0000  0.0000  0.0000  0.0000  0.0000  0.0000\n",
       " 0.0000  0.0000  0.0000  0.0000  0.0000  0.0000  0.0000  0.0000\n",
       " 0.0000  0.0000  0.0000  0.0000  0.0000  0.0000  0.0000  0.0000\n",
       " 0.0000  0.0000  0.0000  0.0000  0.0000  0.0000  0.0000  0.0000\n",
       " 0.0000  0.0000  0.0000  0.0000  0.0000  0.0000  0.0000  0.0000\n",
       " 0.0000  0.0000  0.0000  0.0000  0.0000  0.0000  0.0000  0.0000\n",
       " 0.0000  0.0000  0.0000  0.0000  0.0000  0.0000  0.0000  0.0000\n",
       " 0.0000  0.0000  0.0000  0.0000  0.0000  0.0000  0.0000  0.0000\n",
       " 0.0000  0.0000  0.0000  0.0000  0.0000  0.0000  0.0000  0.0000\n",
       " 0.0000  0.0000  0.0000  0.0000  0.0000  0.0000  0.0000  0.0000\n",
       " 0.0000  0.0000  0.0000  0.0000  0.0000  0.0000  0.0000  0.0000\n",
       " 0.0000  0.0000  0.0000  0.0000  0.0000  0.0000  0.0000  0.0000\n",
       " 0.0000  0.0000  0.0000  0.0000  0.0000  0.0000  0.0000  0.0000\n",
       " 0.0000  0.0000  0.0000  0.0000  0.0000  0.0000  0.0000  0.0000\n",
       " 0.0000  0.0000  0.0000  0.0000  0.0000  0.0000  0.0000  0.0000\n",
       "[torch.FloatTensor of size 20x28]"
      ]
     },
     "execution_count": 32,
     "metadata": {},
     "output_type": "execute_result"
    }
   ],
   "source": [
    "outputs"
   ]
  },
  {
   "cell_type": "code",
   "execution_count": null,
   "metadata": {
    "collapsed": true
   },
   "outputs": [],
   "source": []
  }
 ],
 "metadata": {
  "anaconda-cloud": {},
  "kernelspec": {
   "display_name": "Python [default]",
   "language": "python",
   "name": "python3"
  },
  "language_info": {
   "codemirror_mode": {
    "name": "ipython",
    "version": 3
   },
   "file_extension": ".py",
   "mimetype": "text/x-python",
   "name": "python",
   "nbconvert_exporter": "python",
   "pygments_lexer": "ipython3",
   "version": "3.5.2"
  }
 },
 "nbformat": 4,
 "nbformat_minor": 1
}
