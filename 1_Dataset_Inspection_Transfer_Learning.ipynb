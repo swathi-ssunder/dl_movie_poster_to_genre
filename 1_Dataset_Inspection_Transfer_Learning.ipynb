{
 "cells": [
  {
   "cell_type": "markdown",
   "metadata": {},
   "source": [
    "#### TODOS: \n",
    "\n",
    "    1. Data Augmentation\n",
    "       a. Actual data may be combined with preprocessed data, if necessary\n",
    "    2. Multiple models - compare accuracy/errors\n",
    "    3. Visualization of intermediate layer weights"
   ]
  },
  {
   "cell_type": "markdown",
   "metadata": {},
   "source": [
    "#### Importing required packages to be used in the notebook"
   ]
  },
  {
   "cell_type": "code",
   "execution_count": 1,
   "metadata": {
    "collapsed": true
   },
   "outputs": [],
   "source": [
    "# Generic\n",
    "import os\n",
    "import time\n",
    "\n",
    "# Data analysis and computing\n",
    "import csv\n",
    "import numpy as np\n",
    "import pandas as pd\n",
    "from sklearn.preprocessing import MultiLabelBinarizer \n",
    "\n",
    "# Image Processing\n",
    "import PIL\n",
    "from PIL import Image\n",
    "\n",
    "# Visualisation\n",
    "import matplotlib.cm as cm\n",
    "import matplotlib.pyplot as plt\n",
    "from IPython.display import HTML, display\n",
    "\n",
    "# Pytorch\n",
    "import torch\n",
    "import torch.nn as nn\n",
    "import torch.utils.data as data_utils\n",
    "import torchvision.models as models\n",
    "from torch.nn.modules import CrossEntropyLoss, L1Loss\n",
    "import torch.optim as optim\n",
    "from torch.autograd import Variable\n",
    "from torchvision import datasets, transforms"
   ]
  },
  {
   "cell_type": "markdown",
   "metadata": {},
   "source": [
    "#### Declaration of constants to be used in the notebook"
   ]
  },
  {
   "cell_type": "code",
   "execution_count": 2,
   "metadata": {
    "collapsed": true
   },
   "outputs": [],
   "source": [
    "# Declarations related to data and file paths\n",
    "DATA_PATH = 'datasets/'\n",
    "MOVIE_POSTERS_PATH = DATA_PATH + 'posters/'\n",
    "MOVIE_GENRE_FILE = DATA_PATH + 'MovieGenre.csv'\n",
    "TRAINED_MODEL_PATH = 'datasets/models/model1'\n",
    "\n",
    "# Configurations related to training\n",
    "DATASET_SIZE = 10000      # Set DATASET_SIZE to None use entire dataset\n",
    "TRAINING_SET_PROPORTION = 0.80\n",
    "BATCH_SIZE = 50\n",
    "LEARNING_RATE = 0.001\n",
    "WEIGHT_DECAY = 0.01\n",
    "NUM_EPOCHS = 50\n",
    "\n",
    "# GPU-related configurations \n",
    "USE_GPU = torch.cuda.is_available()\n",
    "GPUS = [0, 1, 2]\n",
    "os.environ[\"CUDA_VISIBLE_DEVICES\"] = \"1,2,3\""
   ]
  },
  {
   "cell_type": "markdown",
   "metadata": {},
   "source": [
    "### Dataset Inspection"
   ]
  },
  {
   "cell_type": "markdown",
   "metadata": {},
   "source": [
    "#### 1. Movie Genres"
   ]
  },
  {
   "cell_type": "markdown",
   "metadata": {},
   "source": [
    "Read the Movie Genre file"
   ]
  },
  {
   "cell_type": "code",
   "execution_count": 3,
   "metadata": {
    "collapsed": true
   },
   "outputs": [],
   "source": [
    "data = []\n",
    "\n",
    "with open(MOVIE_GENRE_FILE, 'r', encoding='latin1') as f:\n",
    "    csv_reader = csv.reader(f)\n",
    "\n",
    "    for row in csv_reader:\n",
    "        data.append(row)"
   ]
  },
  {
   "cell_type": "markdown",
   "metadata": {},
   "source": [
    "Print the first few entries to inspect the structure of data"
   ]
  },
  {
   "cell_type": "code",
   "execution_count": 4,
   "metadata": {
    "scrolled": true
   },
   "outputs": [
    {
     "data": {
      "text/plain": [
       "[['imdbId', 'Imdb Link', 'Title', 'IMDB Score', 'Genre', 'Poster'],\n",
       " ['114709',\n",
       "  'http://www.imdb.com/title/tt114709',\n",
       "  'Toy Story (1995)',\n",
       "  '8.3',\n",
       "  'Animation|Adventure|Comedy',\n",
       "  'https://images-na.ssl-images-amazon.com/images/M/MV5BMDU2ZWJlMjktMTRhMy00ZTA5LWEzNDgtYmNmZTEwZTViZWJkXkEyXkFqcGdeQXVyNDQ2OTk4MzI@._V1_UX182_CR0,0,182,268_AL_.jpg'],\n",
       " ['113497',\n",
       "  'http://www.imdb.com/title/tt113497',\n",
       "  'Jumanji (1995)',\n",
       "  '6.9',\n",
       "  'Action|Adventure|Family',\n",
       "  'https://images-na.ssl-images-amazon.com/images/M/MV5BZTk2ZmUwYmEtNTcwZS00YmMyLWFkYjMtNTRmZDA3YWExMjc2XkEyXkFqcGdeQXVyMTQxNzMzNDI@._V1_UY268_CR10,0,182,268_AL_.jpg'],\n",
       " ['113228',\n",
       "  'http://www.imdb.com/title/tt113228',\n",
       "  'Grumpier Old Men (1995)',\n",
       "  '6.6',\n",
       "  'Comedy|Romance',\n",
       "  'https://images-na.ssl-images-amazon.com/images/M/MV5BMjQxM2YyNjMtZjUxYy00OGYyLTg0MmQtNGE2YzNjYmUyZTY1XkEyXkFqcGdeQXVyMTQxNzMzNDI@._V1_UX182_CR0,0,182,268_AL_.jpg'],\n",
       " ['114885',\n",
       "  'http://www.imdb.com/title/tt114885',\n",
       "  'Waiting to Exhale (1995)',\n",
       "  '5.7',\n",
       "  'Comedy|Drama|Romance',\n",
       "  'https://images-na.ssl-images-amazon.com/images/M/MV5BMTczMTMyMTgyM15BMl5BanBnXkFtZTcwOTc4OTQyMQ@@._V1_UY268_CR4,0,182,268_AL_.jpg']]"
      ]
     },
     "execution_count": 4,
     "metadata": {},
     "output_type": "execute_result"
    }
   ],
   "source": [
    "data[0:5]"
   ]
  },
  {
   "cell_type": "markdown",
   "metadata": {},
   "source": [
    "Create a dataframe from the data, using the entries at the first index as the column headers"
   ]
  },
  {
   "cell_type": "code",
   "execution_count": 5,
   "metadata": {
    "collapsed": true
   },
   "outputs": [],
   "source": [
    "columns = data.pop(0)\n",
    "\n",
    "columns = list(map(lambda x: x.lower().replace(' ', '_'), columns))\n",
    "movie_genre_df = pd.DataFrame(data, columns=columns)"
   ]
  },
  {
   "cell_type": "markdown",
   "metadata": {},
   "source": [
    "Inspect the dataframe"
   ]
  },
  {
   "cell_type": "code",
   "execution_count": 6,
   "metadata": {
    "scrolled": true
   },
   "outputs": [
    {
     "data": {
      "text/plain": [
       "(40108, 6)"
      ]
     },
     "execution_count": 6,
     "metadata": {},
     "output_type": "execute_result"
    }
   ],
   "source": [
    "movie_genre_df.shape"
   ]
  },
  {
   "cell_type": "markdown",
   "metadata": {},
   "source": [
    "Clean the movie genre dataset to only contain relevant samples"
   ]
  },
  {
   "cell_type": "code",
   "execution_count": 7,
   "metadata": {
    "collapsed": true,
    "scrolled": true
   },
   "outputs": [],
   "source": [
    "# Drop duplicates\n",
    "movie_genre_df.drop_duplicates(inplace=True)\n",
    "# Drop those samples that do not have an associated genre\n",
    "movie_genre_df.drop(movie_genre_df[movie_genre_df['genre'] == ''].index, inplace=True)\n",
    "# Drop those samples that do not have an associated poster\n",
    "movie_genre_df.drop(movie_genre_df[movie_genre_df['poster'] == ''].index, inplace=True)\n",
    "# Reset the indices on the dataframe\n",
    "movie_genre_df.reset_index(drop=True, inplace=True)"
   ]
  },
  {
   "cell_type": "code",
   "execution_count": 8,
   "metadata": {
    "scrolled": true
   },
   "outputs": [
    {
     "data": {
      "text/plain": [
       "(38671, 6)"
      ]
     },
     "execution_count": 8,
     "metadata": {},
     "output_type": "execute_result"
    }
   ],
   "source": [
    "movie_genre_df.shape"
   ]
  },
  {
   "cell_type": "code",
   "execution_count": 9,
   "metadata": {},
   "outputs": [
    {
     "data": {
      "text/html": [
       "<div>\n",
       "<style>\n",
       "    .dataframe thead tr:only-child th {\n",
       "        text-align: right;\n",
       "    }\n",
       "\n",
       "    .dataframe thead th {\n",
       "        text-align: left;\n",
       "    }\n",
       "\n",
       "    .dataframe tbody tr th {\n",
       "        vertical-align: top;\n",
       "    }\n",
       "</style>\n",
       "<table border=\"1\" class=\"dataframe\">\n",
       "  <thead>\n",
       "    <tr style=\"text-align: right;\">\n",
       "      <th></th>\n",
       "      <th>imdbid</th>\n",
       "      <th>imdb_link</th>\n",
       "      <th>title</th>\n",
       "      <th>imdb_score</th>\n",
       "      <th>genre</th>\n",
       "      <th>poster</th>\n",
       "    </tr>\n",
       "  </thead>\n",
       "  <tbody>\n",
       "    <tr>\n",
       "      <th>0</th>\n",
       "      <td>114709</td>\n",
       "      <td>http://www.imdb.com/title/tt114709</td>\n",
       "      <td>Toy Story (1995)</td>\n",
       "      <td>8.3</td>\n",
       "      <td>Animation|Adventure|Comedy</td>\n",
       "      <td>https://images-na.ssl-images-amazon.com/images...</td>\n",
       "    </tr>\n",
       "    <tr>\n",
       "      <th>1</th>\n",
       "      <td>113497</td>\n",
       "      <td>http://www.imdb.com/title/tt113497</td>\n",
       "      <td>Jumanji (1995)</td>\n",
       "      <td>6.9</td>\n",
       "      <td>Action|Adventure|Family</td>\n",
       "      <td>https://images-na.ssl-images-amazon.com/images...</td>\n",
       "    </tr>\n",
       "    <tr>\n",
       "      <th>2</th>\n",
       "      <td>113228</td>\n",
       "      <td>http://www.imdb.com/title/tt113228</td>\n",
       "      <td>Grumpier Old Men (1995)</td>\n",
       "      <td>6.6</td>\n",
       "      <td>Comedy|Romance</td>\n",
       "      <td>https://images-na.ssl-images-amazon.com/images...</td>\n",
       "    </tr>\n",
       "    <tr>\n",
       "      <th>3</th>\n",
       "      <td>114885</td>\n",
       "      <td>http://www.imdb.com/title/tt114885</td>\n",
       "      <td>Waiting to Exhale (1995)</td>\n",
       "      <td>5.7</td>\n",
       "      <td>Comedy|Drama|Romance</td>\n",
       "      <td>https://images-na.ssl-images-amazon.com/images...</td>\n",
       "    </tr>\n",
       "    <tr>\n",
       "      <th>4</th>\n",
       "      <td>113041</td>\n",
       "      <td>http://www.imdb.com/title/tt113041</td>\n",
       "      <td>Father of the Bride Part II (1995)</td>\n",
       "      <td>5.9</td>\n",
       "      <td>Comedy|Family|Romance</td>\n",
       "      <td>https://images-na.ssl-images-amazon.com/images...</td>\n",
       "    </tr>\n",
       "  </tbody>\n",
       "</table>\n",
       "</div>"
      ],
      "text/plain": [
       "   imdbid                           imdb_link  \\\n",
       "0  114709  http://www.imdb.com/title/tt114709   \n",
       "1  113497  http://www.imdb.com/title/tt113497   \n",
       "2  113228  http://www.imdb.com/title/tt113228   \n",
       "3  114885  http://www.imdb.com/title/tt114885   \n",
       "4  113041  http://www.imdb.com/title/tt113041   \n",
       "\n",
       "                                title imdb_score                       genre  \\\n",
       "0                    Toy Story (1995)        8.3  Animation|Adventure|Comedy   \n",
       "1                      Jumanji (1995)        6.9     Action|Adventure|Family   \n",
       "2             Grumpier Old Men (1995)        6.6              Comedy|Romance   \n",
       "3            Waiting to Exhale (1995)        5.7        Comedy|Drama|Romance   \n",
       "4  Father of the Bride Part II (1995)        5.9       Comedy|Family|Romance   \n",
       "\n",
       "                                              poster  \n",
       "0  https://images-na.ssl-images-amazon.com/images...  \n",
       "1  https://images-na.ssl-images-amazon.com/images...  \n",
       "2  https://images-na.ssl-images-amazon.com/images...  \n",
       "3  https://images-na.ssl-images-amazon.com/images...  \n",
       "4  https://images-na.ssl-images-amazon.com/images...  "
      ]
     },
     "execution_count": 9,
     "metadata": {},
     "output_type": "execute_result"
    }
   ],
   "source": [
    "movie_genre_df.head()"
   ]
  },
  {
   "cell_type": "markdown",
   "metadata": {},
   "source": [
    "Process the dataframe so that genres can be accessed easily further on "
   ]
  },
  {
   "cell_type": "code",
   "execution_count": 10,
   "metadata": {
    "collapsed": true,
    "scrolled": true
   },
   "outputs": [],
   "source": [
    "# Split genre to create a list of values \n",
    "movie_genre_df['genre'] = movie_genre_df['genre'].apply(lambda x: x.split('|'))\n",
    "\n",
    "# Expand genre into its own dataframe\n",
    "tags = movie_genre_df['genre'].apply(pd.Series).fillna('')\n",
    "\n",
    "# Rename the columns\n",
    "tags = tags.rename(columns = lambda x : 'genre_' + str(x))\n",
    "\n",
    "# Merge the genre dataframe back into the original dataframe\n",
    "movie_genre_df = pd.concat([movie_genre_df[:], tags[:]], axis=1)"
   ]
  },
  {
   "cell_type": "markdown",
   "metadata": {},
   "source": [
    "Inspect the dataframe"
   ]
  },
  {
   "cell_type": "code",
   "execution_count": 11,
   "metadata": {
    "scrolled": true
   },
   "outputs": [
    {
     "data": {
      "text/plain": [
       "(38671, 9)"
      ]
     },
     "execution_count": 11,
     "metadata": {},
     "output_type": "execute_result"
    }
   ],
   "source": [
    "movie_genre_df.shape"
   ]
  },
  {
   "cell_type": "code",
   "execution_count": 12,
   "metadata": {
    "scrolled": true
   },
   "outputs": [
    {
     "data": {
      "text/html": [
       "<div>\n",
       "<style>\n",
       "    .dataframe thead tr:only-child th {\n",
       "        text-align: right;\n",
       "    }\n",
       "\n",
       "    .dataframe thead th {\n",
       "        text-align: left;\n",
       "    }\n",
       "\n",
       "    .dataframe tbody tr th {\n",
       "        vertical-align: top;\n",
       "    }\n",
       "</style>\n",
       "<table border=\"1\" class=\"dataframe\">\n",
       "  <thead>\n",
       "    <tr style=\"text-align: right;\">\n",
       "      <th></th>\n",
       "      <th>imdbid</th>\n",
       "      <th>imdb_link</th>\n",
       "      <th>title</th>\n",
       "      <th>imdb_score</th>\n",
       "      <th>genre</th>\n",
       "      <th>poster</th>\n",
       "      <th>genre_0</th>\n",
       "      <th>genre_1</th>\n",
       "      <th>genre_2</th>\n",
       "    </tr>\n",
       "  </thead>\n",
       "  <tbody>\n",
       "    <tr>\n",
       "      <th>0</th>\n",
       "      <td>114709</td>\n",
       "      <td>http://www.imdb.com/title/tt114709</td>\n",
       "      <td>Toy Story (1995)</td>\n",
       "      <td>8.3</td>\n",
       "      <td>[Animation, Adventure, Comedy]</td>\n",
       "      <td>https://images-na.ssl-images-amazon.com/images...</td>\n",
       "      <td>Animation</td>\n",
       "      <td>Adventure</td>\n",
       "      <td>Comedy</td>\n",
       "    </tr>\n",
       "    <tr>\n",
       "      <th>1</th>\n",
       "      <td>113497</td>\n",
       "      <td>http://www.imdb.com/title/tt113497</td>\n",
       "      <td>Jumanji (1995)</td>\n",
       "      <td>6.9</td>\n",
       "      <td>[Action, Adventure, Family]</td>\n",
       "      <td>https://images-na.ssl-images-amazon.com/images...</td>\n",
       "      <td>Action</td>\n",
       "      <td>Adventure</td>\n",
       "      <td>Family</td>\n",
       "    </tr>\n",
       "    <tr>\n",
       "      <th>2</th>\n",
       "      <td>113228</td>\n",
       "      <td>http://www.imdb.com/title/tt113228</td>\n",
       "      <td>Grumpier Old Men (1995)</td>\n",
       "      <td>6.6</td>\n",
       "      <td>[Comedy, Romance]</td>\n",
       "      <td>https://images-na.ssl-images-amazon.com/images...</td>\n",
       "      <td>Comedy</td>\n",
       "      <td>Romance</td>\n",
       "      <td></td>\n",
       "    </tr>\n",
       "    <tr>\n",
       "      <th>3</th>\n",
       "      <td>114885</td>\n",
       "      <td>http://www.imdb.com/title/tt114885</td>\n",
       "      <td>Waiting to Exhale (1995)</td>\n",
       "      <td>5.7</td>\n",
       "      <td>[Comedy, Drama, Romance]</td>\n",
       "      <td>https://images-na.ssl-images-amazon.com/images...</td>\n",
       "      <td>Comedy</td>\n",
       "      <td>Drama</td>\n",
       "      <td>Romance</td>\n",
       "    </tr>\n",
       "    <tr>\n",
       "      <th>4</th>\n",
       "      <td>113041</td>\n",
       "      <td>http://www.imdb.com/title/tt113041</td>\n",
       "      <td>Father of the Bride Part II (1995)</td>\n",
       "      <td>5.9</td>\n",
       "      <td>[Comedy, Family, Romance]</td>\n",
       "      <td>https://images-na.ssl-images-amazon.com/images...</td>\n",
       "      <td>Comedy</td>\n",
       "      <td>Family</td>\n",
       "      <td>Romance</td>\n",
       "    </tr>\n",
       "  </tbody>\n",
       "</table>\n",
       "</div>"
      ],
      "text/plain": [
       "   imdbid                           imdb_link  \\\n",
       "0  114709  http://www.imdb.com/title/tt114709   \n",
       "1  113497  http://www.imdb.com/title/tt113497   \n",
       "2  113228  http://www.imdb.com/title/tt113228   \n",
       "3  114885  http://www.imdb.com/title/tt114885   \n",
       "4  113041  http://www.imdb.com/title/tt113041   \n",
       "\n",
       "                                title imdb_score  \\\n",
       "0                    Toy Story (1995)        8.3   \n",
       "1                      Jumanji (1995)        6.9   \n",
       "2             Grumpier Old Men (1995)        6.6   \n",
       "3            Waiting to Exhale (1995)        5.7   \n",
       "4  Father of the Bride Part II (1995)        5.9   \n",
       "\n",
       "                            genre  \\\n",
       "0  [Animation, Adventure, Comedy]   \n",
       "1     [Action, Adventure, Family]   \n",
       "2               [Comedy, Romance]   \n",
       "3        [Comedy, Drama, Romance]   \n",
       "4       [Comedy, Family, Romance]   \n",
       "\n",
       "                                              poster    genre_0    genre_1  \\\n",
       "0  https://images-na.ssl-images-amazon.com/images...  Animation  Adventure   \n",
       "1  https://images-na.ssl-images-amazon.com/images...     Action  Adventure   \n",
       "2  https://images-na.ssl-images-amazon.com/images...     Comedy    Romance   \n",
       "3  https://images-na.ssl-images-amazon.com/images...     Comedy      Drama   \n",
       "4  https://images-na.ssl-images-amazon.com/images...     Comedy     Family   \n",
       "\n",
       "   genre_2  \n",
       "0   Comedy  \n",
       "1   Family  \n",
       "2           \n",
       "3  Romance  \n",
       "4  Romance  "
      ]
     },
     "execution_count": 12,
     "metadata": {},
     "output_type": "execute_result"
    }
   ],
   "source": [
    "movie_genre_df.head()"
   ]
  },
  {
   "cell_type": "markdown",
   "metadata": {},
   "source": [
    "Retrieve the distribution of unique genres across all movies"
   ]
  },
  {
   "cell_type": "code",
   "execution_count": 13,
   "metadata": {
    "collapsed": true,
    "scrolled": true
   },
   "outputs": [],
   "source": [
    "# Get distribution of unique values from multiple genre columns\n",
    "# Remove the entry representing no genre\n",
    "# Get combined counts of unique genres\n",
    "\n",
    "genre_distribution = movie_genre_df[['genre_0', 'genre_1', 'genre_2']] \\\n",
    "            .apply(lambda s: s.value_counts()) \\\n",
    "            .drop('') \\\n",
    "            .sum(axis=1) \\\n",
    "            .reset_index()\n",
    "                \n",
    "# Rename the columns acordingly                \n",
    "genre_distribution.columns = ['genre', 'count']\n",
    "\n",
    "# Sort the dataframe to order by predominant genres \n",
    "genre_distribution = genre_distribution.sort_values(by='count', ascending=False).reset_index(drop=True)\n",
    "\n",
    "# Store the unique genres as a dictionary\n",
    "unique_genres = genre_distribution['genre'].tolist()\n",
    "unique_genres = {x: i for (i,x) in enumerate(unique_genres)}\n",
    "# unique_genres[''] = len(unique_genres)"
   ]
  },
  {
   "cell_type": "markdown",
   "metadata": {},
   "source": [
    "Visualise the distribution of genres across movies"
   ]
  },
  {
   "cell_type": "code",
   "execution_count": 14,
   "metadata": {
    "scrolled": false
   },
   "outputs": [
    {
     "data": {
      "image/png": "[encoded data removed]",
      "text/plain": [
       "<matplotlib.figure.Figure at 0x7f096c8f8080>"
      ]
     },
     "execution_count": 14,
     "metadata": {},
     "output_type": "execute_result"
    }
   ],
   "source": [
    "genres_count = genre_distribution.shape[0]\n",
    "colors = cm.rainbow(np.linspace(0, 1, genres_count))\n",
    "\n",
    "\n",
    "plot = genre_distribution.plot(x='genre', y='count', kind='bar', width=0.8, rot=0, figsize=(15,6), \n",
    "                               color=colors, legend=None)\n",
    "\n",
    "plot.set_title('Movie Genres', fontweight='bold')\n",
    "\n",
    "plot.set_ylabel('Count of Movies')\n",
    "plot.set_xlabel('Movie Genre')\n",
    "\n",
    "plot.set_xticklabels(labels=genre_distribution['genre'], rotation=30)\n",
    "\n",
    "rects = plot.patches\n",
    "\n",
    "# Now make some labels\n",
    "labels = [int(genre_distribution['count'][i]) for i in range(len(rects))]\n",
    "\n",
    "for rect, label in zip(rects, labels):\n",
    "    height = rect.get_height()\n",
    "    plot.text(rect.get_x() + rect.get_width()/2, height + 5, label, ha='center', va='bottom')\n",
    "\n",
    "plot.get_figure() #.save_fig('')"
   ]
  },
  {
   "cell_type": "markdown",
   "metadata": {},
   "source": [
    "Retrieve the distribution of number of genres across all movies"
   ]
  },
  {
   "cell_type": "code",
   "execution_count": 15,
   "metadata": {
    "collapsed": true,
    "scrolled": true
   },
   "outputs": [],
   "source": [
    "genre_count_distribution = movie_genre_df['genre'] \\\n",
    "                    .apply(lambda s: len(s)) \\\n",
    "                    .value_counts() \\\n",
    "                    .reset_index()\n",
    "            \n",
    "genre_count_distribution.columns = ['num_genres', 'num_movies']"
   ]
  },
  {
   "cell_type": "markdown",
   "metadata": {},
   "source": [
    "Visualise the distribution of number of genres across movies"
   ]
  },
  {
   "cell_type": "code",
   "execution_count": 16,
   "metadata": {},
   "outputs": [
    {
     "data": {
      "image/png": "[encoded data removed]",
      "text/plain": [
       "<matplotlib.figure.Figure at 0x7f096c8f8550>"
      ]
     },
     "execution_count": 16,
     "metadata": {},
     "output_type": "execute_result"
    }
   ],
   "source": [
    "plot = genre_count_distribution.plot(x='num_genres', y='num_movies', kind='bar', width=0.5, \n",
    "                               rot=0, legend=None)\n",
    "\n",
    "plot.set_title('Movie Genres', fontweight='bold')\n",
    "\n",
    "plot.set_ylabel('Count of Movies')\n",
    "plot.set_xlabel('Number of Genres')\n",
    "\n",
    "rects = plot.patches\n",
    "\n",
    "# Now make some labels\n",
    "labels = [int(genre_count_distribution['num_movies'][i]) for i in range(len(rects))]\n",
    "\n",
    "for rect, label in zip(rects, labels):\n",
    "    height = rect.get_height()\n",
    "    plot.text(rect.get_x() + rect.get_width()/2, height + 5, label, ha='center', va='bottom')\n",
    "\n",
    "plot.get_figure()"
   ]
  },
  {
   "cell_type": "markdown",
   "metadata": {},
   "source": [
    "#### 2. Movie Posters"
   ]
  },
  {
   "cell_type": "markdown",
   "metadata": {},
   "source": [
    "Create a list of the movie posters names by traversing the directory"
   ]
  },
  {
   "cell_type": "code",
   "execution_count": 17,
   "metadata": {
    "scrolled": true
   },
   "outputs": [
    {
     "name": "stdout",
     "output_type": "stream",
     "text": [
      "Number of movie posters = 38533\n"
     ]
    }
   ],
   "source": [
    "valid_poster_files = set(os.listdir(MOVIE_POSTERS_PATH))\n",
    "valid_movie_samples = set(movie_genre_df['imdbid'].apply(lambda x: x+'.jpg').tolist())\n",
    "poster_files = valid_poster_files.intersection(valid_movie_samples)\n",
    "\n",
    "imdb_ids = [i.split('.')[0] for i in poster_files]\n",
    "movie_posters = [MOVIE_POSTERS_PATH + i for i in poster_files] # if os.path.getsize(MOVIE_POSTERS_PATH + i) > 0]\n",
    "\n",
    "print(\"Number of movie posters =\", len(movie_posters))"
   ]
  },
  {
   "cell_type": "markdown",
   "metadata": {},
   "source": [
    "Create a mini-batch of posters and associated genres."
   ]
  },
  {
   "cell_type": "code",
   "execution_count": 18,
   "metadata": {
    "collapsed": true
   },
   "outputs": [],
   "source": [
    "mini_batch_posters = movie_posters[0:DATASET_SIZE]\n",
    "mini_batch_imdb_ids = imdb_ids[0:DATASET_SIZE]\n",
    "\n",
    "mini_batch_genres = movie_genre_df[movie_genre_df['imdbid'].isin(mini_batch_imdb_ids)]['genre'].tolist()\n",
    "\n",
    "num_classes = len(unique_genres)"
   ]
  },
  {
   "cell_type": "markdown",
   "metadata": {},
   "source": [
    "Visualise few movie posters"
   ]
  },
  {
   "cell_type": "code",
   "execution_count": 19,
   "metadata": {
    "scrolled": true
   },
   "outputs": [
    {
     "data": {
      "text/html": [
       "<table></tr/><tr><td><img src=datasets/posters/1823202.jpg width=\"70\" height=\"70\"/><span>Comedy,\n",
       "Family,\n",
       "Romance</span</td><td><img src=datasets/posters/91083.jpg width=\"70\" height=\"70\"/><span>Action,\n",
       "Crime,\n",
       "Drama</span</td><td><img src=datasets/posters/88108.jpg width=\"70\" height=\"70\"/><span>Comedy,\n",
       "Drama</span</td><td><img src=datasets/posters/81695.jpg width=\"70\" height=\"70\"/><span>Adventure,\n",
       "Comedy,\n",
       "Drama</span</td><td><img src=datasets/posters/414055.jpg width=\"70\" height=\"70\"/><span>Animation,\n",
       "Adventure,\n",
       "Drama</span</td><td><img src=datasets/posters/308671.jpg width=\"70\" height=\"70\"/><span>Crime,\n",
       "Drama</span</td><td><img src=datasets/posters/38777.jpg width=\"70\" height=\"70\"/><span>Drama,\n",
       "Romance</span</td><td><img src=datasets/posters/2573750.jpg width=\"70\" height=\"70\"/><span>Action,\n",
       "Crime,\n",
       "Thriller</span</td><td><img src=datasets/posters/812221.jpg width=\"70\" height=\"70\"/><span>Crime,\n",
       "Drama</span</td><td><img src=datasets/posters/65133.jpg width=\"70\" height=\"70\"/><span>Comedy,\n",
       "Romance</span</td><td><img src=datasets/posters/275309.jpg width=\"70\" height=\"70\"/><span>Action,\n",
       "Crime,\n",
       "Drama</span</td><td><img src=datasets/posters/38178.jpg width=\"70\" height=\"70\"/><span>Comedy,\n",
       "Drama,\n",
       "Romance</span</td></tr/><tr><td><img src=datasets/posters/2518926.jpg width=\"70\" height=\"70\"/><span>Animation,\n",
       "Adventure,\n",
       "Drama</span</td><td><img src=datasets/posters/49869.jpg width=\"70\" height=\"70\"/><span>Action,\n",
       "Drama,\n",
       "Thriller</span</td><td><img src=datasets/posters/481222.jpg width=\"70\" height=\"70\"/><span>Comedy,\n",
       "Fantasy,\n",
       "Romance</span</td><td><img src=datasets/posters/332136.jpg width=\"70\" height=\"70\"/><span>Drama</span</td><td><img src=datasets/posters/113184.jpg width=\"70\" height=\"70\"/><span>Comedy,\n",
       "Family,\n",
       "Sport</span</td><td><img src=datasets/posters/104376.jpg width=\"70\" height=\"70\"/><span>Comedy,\n",
       "Drama,\n",
       "Romance</span</td><td><img src=datasets/posters/114198.jpg width=\"70\" height=\"70\"/><span>Drama,\n",
       "Music</span</td><td><img src=datasets/posters/2120779.jpg width=\"70\" height=\"70\"/><span>Action,\n",
       "Sci-Fi,\n",
       "Thriller</span</td><td><img src=datasets/posters/1336601.jpg width=\"70\" height=\"70\"/><span>Drama</span</td><td><img src=datasets/posters/468652.jpg width=\"70\" height=\"70\"/><span>Comedy,\n",
       "Drama,\n",
       "Romance</span</td><td><img src=datasets/posters/81614.jpg width=\"70\" height=\"70\"/><span>Comedy,\n",
       "Thriller</span</td><td><img src=datasets/posters/58153.jpg width=\"70\" height=\"70\"/><span>Action,\n",
       "Crime,\n",
       "Drama</span</td></table>"
      ],
      "text/plain": [
       "<IPython.core.display.HTML object>"
      ]
     },
     "metadata": {},
     "output_type": "display_data"
    }
   ],
   "source": [
    "markup = '<table>'\n",
    "\n",
    "for i, poster in enumerate(mini_batch_posters[0:24]):\n",
    "    if i%12 == 0:\n",
    "        markup += '</tr/><tr>'\n",
    "\n",
    "    markup += '<td><img src=' + poster +' width=\"70\" height=\"70\"/><span>' + ',\\n'.join(mini_batch_genres[i]) + \\\n",
    "                            '</span</td>'\n",
    "    \n",
    "markup += '</table>'\n",
    "\n",
    "display(HTML(markup))"
   ]
  },
  {
   "cell_type": "markdown",
   "metadata": {},
   "source": [
    "Inspect the dimensions of one of the posters"
   ]
  },
  {
   "cell_type": "code",
   "execution_count": 20,
   "metadata": {},
   "outputs": [
    {
     "name": "stdout",
     "output_type": "stream",
     "text": [
      "Poster dimensions : (268, 182, 3)\n"
     ]
    }
   ],
   "source": [
    "print(\"Poster dimensions :\", np.array(PIL.Image.open(mini_batch_posters[0])).shape)"
   ]
  },
  {
   "cell_type": "markdown",
   "metadata": {},
   "source": [
    "### Dataset preparation"
   ]
  },
  {
   "cell_type": "markdown",
   "metadata": {},
   "source": [
    "Partition the data into training and test sets"
   ]
  },
  {
   "cell_type": "code",
   "execution_count": 21,
   "metadata": {},
   "outputs": [
    {
     "name": "stdout",
     "output_type": "stream",
     "text": [
      "X_train shape:  torch.Size([8000, 3, 64, 64])\n",
      "y_train shape:  torch.Size([8000, 28])\n",
      "X_test shape:  torch.Size([2000, 3, 64, 64])\n",
      "y_test shape:  torch.Size([2000, 28])\n"
     ]
    }
   ],
   "source": [
    "train_size = int(len(mini_batch_posters)*TRAINING_SET_PROPORTION)\n",
    "\n",
    "train_posters = mini_batch_posters[:train_size]\n",
    "test_posters = mini_batch_posters[train_size:]\n",
    "\n",
    "multi_label_binarizer = MultiLabelBinarizer(list(unique_genres.keys()))\n",
    "y = multi_label_binarizer.fit_transform(mini_batch_genres)\n",
    "y_train = torch.from_numpy(y[:train_size])\n",
    "y_test = torch.from_numpy(y[train_size:])\n",
    "\n",
    "# Resize the posters as square images are nice to work with and also apply necessary pre-processing\n",
    "# x = preprocessFn(PIL.Image.open(i)).unsqueeze(0)\n",
    "for i, poster in enumerate(train_posters):\n",
    "    x = torch.from_numpy(np.transpose(np.array(PIL.Image.open(poster).resize((64,64))).T, (0,2,1))) \\\n",
    "                        .float().unsqueeze(0)\n",
    "    if i == 0:\n",
    "        X_train = x\n",
    "    else:\n",
    "        X_train = torch.cat((X_train, x), 0)\n",
    "        \n",
    "# x = preprocessFn(PIL.Image.open(i)).unsqueeze(0)\n",
    "for i, poster in enumerate(test_posters):\n",
    "    x = torch.from_numpy(np.transpose(np.array(PIL.Image.open(poster).resize((64,64))).T, (0,2,1))) \\\n",
    "                       .float().unsqueeze(0)\n",
    "    if i == 0:\n",
    "        X_test = x\n",
    "    else:\n",
    "        X_test = torch.cat((X_test, x), 0)\n",
    "\n",
    "print(\"X_train shape: \", X_train.size())\n",
    "print(\"y_train shape: \", y_train.size())\n",
    "print(\"X_test shape: \", X_test.size())\n",
    "print(\"y_test shape: \", y_test.size())"
   ]
  },
  {
   "cell_type": "markdown",
   "metadata": {},
   "source": [
    "Create Tensor objects for the training and test sets"
   ]
  },
  {
   "cell_type": "code",
   "execution_count": 22,
   "metadata": {
    "collapsed": true,
    "scrolled": true
   },
   "outputs": [],
   "source": [
    "train = data_utils.TensorDataset(X_train, y_train)\n",
    "\n",
    "# Use weight-sampling to account for class-imbalance\n",
    "class_sample_count = [int(genre_distribution[genre_distribution['genre'] == x]['count'].values[0]) \\\n",
    "                          for x in multi_label_binarizer.classes]\n",
    "weights = (1 / torch.Tensor(class_sample_count)).double()\n",
    "sampler = data_utils.sampler.WeightedRandomSampler(weights, train_size)\n",
    "train_loader = data_utils.DataLoader(train, batch_size=BATCH_SIZE, shuffle=True, sampler = sampler)\n",
    "\n",
    "test = data_utils.TensorDataset(X_test, y_test)\n",
    "test_loader = data_utils.DataLoader(test, batch_size=BATCH_SIZE, shuffle=False)\n",
    "\n",
    "dataset_sizes = {'train': len(train), 'val': 0, 'test': len(test)}"
   ]
  },
  {
   "cell_type": "markdown",
   "metadata": {},
   "source": [
    "### Network Architecture"
   ]
  },
  {
   "cell_type": "markdown",
   "metadata": {},
   "source": [
    "Define a custom architecture on top of the pre-trained model.\n",
    "\n",
    "Since the dataset is small, it is not a good idea to fine-tune the entire ConvNet due to overfitting concerns.\n",
    "As the dataset is very different from the ImageNet dataset, it might not be best to train the classifier from the top of the network, which contains more dataset-specific features. Instead, it might work better to train the classifier from activations somewhere earlier in the network."
   ]
  },
  {
   "cell_type": "code",
   "execution_count": 23,
   "metadata": {
    "collapsed": true
   },
   "outputs": [],
   "source": [
    "class CustomNet(nn.Module):\n",
    "    def __init__(self, model, freeze='all'):\n",
    "        \"\"\"\n",
    "        In the constructor we instantiate two nn.Linear modules and assign them as\n",
    "        member variables.\n",
    "        \"\"\"\n",
    "        super(CustomNet, self).__init__()\n",
    "        self.model = model\n",
    "        \n",
    "        if freeze == 'all':\n",
    "            for param in self.model.parameters():\n",
    "                param.requires_grad = False\n",
    "        else:\n",
    "            for layer in freeze:\n",
    "                for param in getattr(self.model, layer).parameters():\n",
    "                    param.requires_grad = False\n",
    "\n",
    "        self.model.avgpool = nn.AdaptiveAvgPool2d(1)\n",
    "        self.model.fc = nn.Linear(self.model.fc.in_features, num_classes)\n",
    "\n",
    "\n",
    "    def forward(self, x):\n",
    "        \"\"\"\n",
    "        In the forward function we accept a Variable of input data and we must return\n",
    "        a Variable of output data. We can use Modules defined in the constructor as\n",
    "        well as arbitrary operators on Variables.\n",
    "        \"\"\"\n",
    "        x = self.model(x)\n",
    "#         x = nn.functional.softmax(x)\n",
    "        return x"
   ]
  },
  {
   "cell_type": "markdown",
   "metadata": {},
   "source": [
    "Define the **train** and **test** functions"
   ]
  },
  {
   "cell_type": "code",
   "execution_count": 24,
   "metadata": {
    "collapsed": true
   },
   "outputs": [],
   "source": [
    "def exp_lr_scheduler(optimizer, epoch, init_lr=0.0001, lr_decay_epoch=3):\n",
    "    \"\"\"Decay learning rate by a factor of 0.1 every lr_decay_epoch epochs.\"\"\"\n",
    "    lr = init_lr * (WEIGHT_DECAY**(epoch // lr_decay_epoch))\n",
    "\n",
    "    if epoch % lr_decay_epoch == 0:\n",
    "        print('LR is set to {}'.format(lr))\n",
    "\n",
    "    for param_group in optimizer.param_groups:\n",
    "        param_group['lr'] = lr\n",
    "\n",
    "    return optimizer"
   ]
  },
  {
   "cell_type": "code",
   "execution_count": 25,
   "metadata": {
    "collapsed": true,
    "scrolled": false
   },
   "outputs": [],
   "source": [
    "def train_model(model, criterion, optimizer, lr_scheduler, num_epochs=25):\n",
    "    \n",
    "    start = time.time()\n",
    "    loss_history = []\n",
    "    \n",
    "    \n",
    "    for epoch in range(NUM_EPOCHS):\n",
    "        print('Epoch {}/{}'.format(epoch, NUM_EPOCHS - 1))\n",
    "        print('-' * 10)\n",
    "\n",
    "        optimizer = lr_scheduler(optimizer, epoch)\n",
    "        # Set model to training mode\n",
    "        model.train(True)  \n",
    "\n",
    "        running_loss = []\n",
    "\n",
    "        # Iterate over data.\n",
    "        for batch_idx, (inputs, targets) in enumerate(train_loader):\n",
    "\n",
    "            if USE_GPU:\n",
    "                inputs = Variable(inputs.cuda(device=GPUS[0])).float()\n",
    "                targets = Variable(targets.cuda(device=GPUS[0])).float()\n",
    "            else:\n",
    "                inputs = Variable(inputs)\n",
    "                targets = Variable(targets).float()\n",
    "\n",
    "            # zero the parameter gradients\n",
    "            optimizer.zero_grad()\n",
    "\n",
    "            # forward\n",
    "            outputs = model(inputs)\n",
    "            loss = criterion(outputs, targets)\n",
    "\n",
    "            loss.backward()\n",
    "            optimizer.step()\n",
    "\n",
    "            running_loss.append(loss.data[0])\n",
    "\n",
    "        epoch_loss = np.mean(running_loss)\n",
    "        loss_history.append(epoch_loss)\n",
    "\n",
    "        print('Training loss: {:.4f}'.format(epoch_loss))\n",
    "        print('*' * 100)\n",
    "        \n",
    "    time_elapsed = time.time() - start\n",
    "    print('Training complete in {:.0f}m {:.0f}s'.format(time_elapsed // 60, time_elapsed % 60))\n",
    "    \n",
    "#     torch.save(model.state_dict(), TRAINED_MODEL_PATH)\n",
    "    \n",
    "    return model, loss_history"
   ]
  },
  {
   "cell_type": "code",
   "execution_count": 26,
   "metadata": {
    "collapsed": true,
    "scrolled": false
   },
   "outputs": [],
   "source": [
    "def test_model(model):\n",
    "    \n",
    "    start = time.time()\n",
    "    num_labels = []\n",
    "    num_preds = []\n",
    "    num_labels_union = []\n",
    "    preds_correct = []\n",
    "    diff_labels = []\n",
    "    \n",
    "    # Set model to training mode\n",
    "    model.train(False)  \n",
    "\n",
    "    # Iterate over data\n",
    "    for batch_idx, (inputs, targets) in enumerate(test_loader):\n",
    "\n",
    "        if USE_GPU:\n",
    "            inputs = Variable(inputs.cuda(device=GPUS[0]))\n",
    "            targets = Variable(targets.cuda(device=GPUS[0])).float()\n",
    "        else:\n",
    "            inputs = Variable(inputs)\n",
    "            targets = Variable(targets).float()\n",
    "\n",
    "        # forward\n",
    "        outputs = model(inputs)\n",
    "        \n",
    "        for i, t in enumerate(targets.data):\n",
    "            labels = t.nonzero()[:,0].tolist()\n",
    "            \n",
    "            num_labels.append(len(labels)) \n",
    "            \n",
    "            j, preds = torch.exp(outputs.data[i]).topk(num_labels[-1])\n",
    "            preds = [p for k, p in enumerate(preds) if j[k] != 0]\n",
    "\n",
    "            preds_correct.append(len(set(preds).intersection(labels))) \n",
    "            num_preds.append(len(preds))\n",
    "            num_labels_union.append(len(set(preds).union(labels)))\n",
    "            diff_labels.append(len(set(preds).symmetric_difference(labels)))\n",
    "\n",
    "    \n",
    "    total_preds_correct = sum(preds_correct)\n",
    "    total_num_labels = sum(num_labels)\n",
    "    total_num_preds = sum(num_preds)\n",
    "    \n",
    "    label_cardinality = np.mean(num_labels)\n",
    "    label_density = np.mean([i/total_num_labels for i in num_labels])\n",
    "    \n",
    "    precision = np.mean([x/num_preds[i] for i,x in enumerate(preds_correct)])\n",
    "    recall = np.mean([x/num_labels[i] for i,x in enumerate(preds_correct)])\n",
    "    f1_score = (2*precision*recall)/(precision+recall)\n",
    "    \n",
    "    jaccard_index = np.mean([x/num_labels_union[i] for i,x in enumerate(preds_correct)])\n",
    "    hamming_loss = np.mean([x/total_num_labels for i,x in enumerate(diff_labels)])\n",
    "    \n",
    "    time_elapsed = time.time() - start\n",
    "    \n",
    "    result = {\n",
    "        'label_cardinality': label_cardinality,\n",
    "        'label_density': label_density,\n",
    "        'precision': precision,\n",
    "        'recall': recall,\n",
    "        'f1_score': f1_score,\n",
    "        'jaccard_index': jaccard_index,\n",
    "        'hamming_loss': hamming_loss,\n",
    "        'total_num_labels': total_num_labels,\n",
    "        'total_num_preds': total_num_preds,\n",
    "        'total_preds_correct': total_preds_correct\n",
    "    }\n",
    "    print('Testing complete in {:.0f}m {:.0f}s'.format(time_elapsed // 60, time_elapsed % 60))\n",
    "    \n",
    "    return result"
   ]
  },
  {
   "cell_type": "markdown",
   "metadata": {},
   "source": [
    "Download pretrained models and adapt them by fine-tuning"
   ]
  },
  {
   "cell_type": "code",
   "execution_count": 27,
   "metadata": {
    "collapsed": true,
    "scrolled": true
   },
   "outputs": [],
   "source": [
    "pretrained_models = {\n",
    "    'resnet': {\n",
    "        'model': models.resnet152(pretrained=True),\n",
    "        'freeze': ['conv1', 'bn1', 'relu', 'maxpool', 'layer1', 'layer2', 'layer3']\n",
    "    }\n",
    "#     'alexnet': {\n",
    "#         'model': models.alexnet(pretrained=True)\n",
    "#     },\n",
    "#     'vggnet': {\n",
    "#         'model': models.vgg16(pretrained=True)\n",
    "#     }\n",
    "}"
   ]
  },
  {
   "cell_type": "markdown",
   "metadata": {},
   "source": [
    "Define the parameters required for training the model"
   ]
  },
  {
   "cell_type": "code",
   "execution_count": null,
   "metadata": {},
   "outputs": [],
   "source": [
    "base_model = pretrained_models['resnet']\n",
    "custom_model = CustomNet(base_model['model'], base_model['freeze'])\n",
    "\n",
    "if USE_GPU:\n",
    "    custom_model = custom_model.cuda()\n",
    "\n",
    "print('Custom Model', custom_model)\n",
    "\n",
    "criterion = nn.MultiLabelSoftMarginLoss()\n",
    "optimizer = optim.Adam([\n",
    "                {'params': custom_model.model.layer4.parameters()},\n",
    "                {'params': custom_model.model.avgpool.parameters()},\n",
    "                {'params': custom_model.model.fc.parameters()}\n",
    "            ], lr=LEARNING_RATE, weight_decay=WEIGHT_DECAY)"
   ]
  },
  {
   "cell_type": "markdown",
   "metadata": {},
   "source": [
    "### Deep Learning in Action"
   ]
  },
  {
   "cell_type": "markdown",
   "metadata": {},
   "source": [
    "#### 1. Train the model"
   ]
  },
  {
   "cell_type": "code",
   "execution_count": 29,
   "metadata": {
    "scrolled": true
   },
   "outputs": [
    {
     "name": "stdout",
     "output_type": "stream",
     "text": [
      "Epoch 0/49\n",
      "----------\n",
      "LR is set to 0.0001\n",
      "Training loss: 0.0573\n",
      "****************************************************************************************************\n",
      "Epoch 1/49\n",
      "----------\n",
      "Training loss: 0.0063\n",
      "****************************************************************************************************\n",
      "Epoch 2/49\n",
      "----------\n",
      "Training loss: 0.0051\n",
      "****************************************************************************************************\n",
      "Epoch 3/49\n",
      "----------\n",
      "LR is set to 1.0000000000000002e-06\n",
      "Training loss: 0.0045\n",
      "****************************************************************************************************\n",
      "Epoch 4/49\n",
      "----------\n",
      "Training loss: 0.0041\n",
      "****************************************************************************************************\n",
      "Epoch 5/49\n",
      "----------\n",
      "Training loss: 0.0044\n",
      "****************************************************************************************************\n",
      "Epoch 6/49\n",
      "----------\n",
      "LR is set to 1e-08\n",
      "Training loss: 0.0043\n",
      "****************************************************************************************************\n",
      "Epoch 7/49\n",
      "----------\n",
      "Training loss: 0.0045\n",
      "****************************************************************************************************\n",
      "Epoch 8/49\n",
      "----------\n",
      "Training loss: 0.0042\n",
      "****************************************************************************************************\n",
      "Epoch 9/49\n",
      "----------\n",
      "LR is set to 1.0000000000000002e-10\n",
      "Training loss: 0.0042\n",
      "****************************************************************************************************\n",
      "Epoch 10/49\n",
      "----------\n",
      "Training loss: 0.0041\n",
      "****************************************************************************************************\n",
      "Epoch 11/49\n",
      "----------\n",
      "Training loss: 0.0041\n",
      "****************************************************************************************************\n",
      "Epoch 12/49\n",
      "----------\n",
      "LR is set to 1e-12\n",
      "Training loss: 0.0041\n",
      "****************************************************************************************************\n",
      "Epoch 13/49\n",
      "----------\n",
      "Training loss: 0.0040\n",
      "****************************************************************************************************\n",
      "Epoch 14/49\n",
      "----------\n",
      "Training loss: 0.0040\n",
      "****************************************************************************************************\n",
      "Epoch 15/49\n",
      "----------\n",
      "LR is set to 1.0000000000000002e-14\n",
      "Training loss: 0.0040\n",
      "****************************************************************************************************\n",
      "Epoch 16/49\n",
      "----------\n",
      "Training loss: 0.0044\n",
      "****************************************************************************************************\n",
      "Epoch 17/49\n",
      "----------\n",
      "Training loss: 0.0043\n",
      "****************************************************************************************************\n",
      "Epoch 18/49\n",
      "----------\n",
      "LR is set to 1.0000000000000002e-16\n",
      "Training loss: 0.0044\n",
      "****************************************************************************************************\n",
      "Epoch 19/49\n",
      "----------\n",
      "Training loss: 0.0042\n",
      "****************************************************************************************************\n",
      "Epoch 20/49\n",
      "----------\n",
      "Training loss: 0.0042\n",
      "****************************************************************************************************\n",
      "Epoch 21/49\n",
      "----------\n",
      "LR is set to 1.0000000000000003e-18\n",
      "Training loss: 0.0044\n",
      "****************************************************************************************************\n",
      "Epoch 22/49\n",
      "----------\n",
      "Training loss: 0.0042\n",
      "****************************************************************************************************\n",
      "Epoch 23/49\n",
      "----------\n",
      "Training loss: 0.0043\n",
      "****************************************************************************************************\n",
      "Epoch 24/49\n",
      "----------\n",
      "LR is set to 1.0000000000000002e-20\n",
      "Training loss: 0.0040\n",
      "****************************************************************************************************\n",
      "Epoch 25/49\n",
      "----------\n",
      "Training loss: 0.0039\n",
      "****************************************************************************************************\n",
      "Epoch 26/49\n",
      "----------\n",
      "Training loss: 0.0042\n",
      "****************************************************************************************************\n",
      "Epoch 27/49\n",
      "----------\n",
      "LR is set to 1.0000000000000003e-22\n",
      "Training loss: 0.0042\n",
      "****************************************************************************************************\n",
      "Epoch 28/49\n",
      "----------\n",
      "Training loss: 0.0042\n",
      "****************************************************************************************************\n",
      "Epoch 29/49\n",
      "----------\n",
      "Training loss: 0.0041\n",
      "****************************************************************************************************\n",
      "Epoch 30/49\n",
      "----------\n",
      "LR is set to 1.0000000000000003e-24\n",
      "Training loss: 0.0041\n",
      "****************************************************************************************************\n",
      "Epoch 31/49\n",
      "----------\n",
      "Training loss: 0.0041\n",
      "****************************************************************************************************\n",
      "Epoch 32/49\n",
      "----------\n",
      "Training loss: 0.0044\n",
      "****************************************************************************************************\n",
      "Epoch 33/49\n",
      "----------\n",
      "LR is set to 1.0000000000000003e-26\n",
      "Training loss: 0.0044\n",
      "****************************************************************************************************\n",
      "Epoch 34/49\n",
      "----------\n",
      "Training loss: 0.0041\n",
      "****************************************************************************************************\n",
      "Epoch 35/49\n",
      "----------\n",
      "Training loss: 0.0042\n",
      "****************************************************************************************************\n",
      "Epoch 36/49\n",
      "----------\n",
      "LR is set to 1.0000000000000003e-28\n",
      "Training loss: 0.0044\n",
      "****************************************************************************************************\n",
      "Epoch 37/49\n",
      "----------\n",
      "Training loss: 0.0041\n",
      "****************************************************************************************************\n",
      "Epoch 38/49\n",
      "----------\n",
      "Training loss: 0.0040\n",
      "****************************************************************************************************\n",
      "Epoch 39/49\n",
      "----------\n",
      "LR is set to 1.0000000000000004e-30\n",
      "Training loss: 0.0043\n",
      "****************************************************************************************************\n",
      "Epoch 40/49\n",
      "----------\n",
      "Training loss: 0.0043\n",
      "****************************************************************************************************\n",
      "Epoch 41/49\n",
      "----------\n",
      "Training loss: 0.0044\n",
      "****************************************************************************************************\n",
      "Epoch 42/49\n",
      "----------\n",
      "LR is set to 1.0000000000000003e-32\n",
      "Training loss: 0.0041\n",
      "****************************************************************************************************\n",
      "Epoch 43/49\n",
      "----------\n",
      "Training loss: 0.0039\n",
      "****************************************************************************************************\n",
      "Epoch 44/49\n",
      "----------\n",
      "Training loss: 0.0045\n",
      "****************************************************************************************************\n",
      "Epoch 45/49\n",
      "----------\n",
      "LR is set to 1.0000000000000004e-34\n",
      "Training loss: 0.0044\n",
      "****************************************************************************************************\n",
      "Epoch 46/49\n",
      "----------\n",
      "Training loss: 0.0044\n",
      "****************************************************************************************************\n",
      "Epoch 47/49\n",
      "----------\n",
      "Training loss: 0.0042\n",
      "****************************************************************************************************\n",
      "Epoch 48/49\n",
      "----------\n",
      "LR is set to 1.0000000000000004e-36\n",
      "Training loss: 0.0039\n",
      "****************************************************************************************************\n",
      "Epoch 49/49\n",
      "----------\n",
      "Training loss: 0.0042\n",
      "****************************************************************************************************\n",
      "Training complete in 86m 54s\n"
     ]
    }
   ],
   "source": [
    "best_model, loss_history = train_model(custom_model, criterion, optimizer, exp_lr_scheduler, \\\n",
    "                                             num_epochs=NUM_EPOCHS)"
   ]
  },
  {
   "cell_type": "markdown",
   "metadata": {},
   "source": [
    "#### 2. Visualise the training loss over epochs"
   ]
  },
  {
   "cell_type": "code",
   "execution_count": 33,
   "metadata": {},
   "outputs": [
    {
     "data": {
      "image/png": "[encoded data removed]",
      "text/plain": [
       "<matplotlib.figure.Figure at 0x7f096caa6400>"
      ]
     },
     "metadata": {},
     "output_type": "display_data"
    }
   ],
   "source": [
    "plt.plot(np.arange(0, NUM_EPOCHS), loss_history)\n",
    "\n",
    "plt.xlabel('Epoch')\n",
    "plt.ylabel('Training Loss')\n",
    "plt.title('Loss history over epochs')\n",
    "plt.grid(True)\n",
    "plt.show()"
   ]
  },
  {
   "cell_type": "markdown",
   "metadata": {},
   "source": [
    "#### 3. Use the model to get predictions on the test set"
   ]
  },
  {
   "cell_type": "code",
   "execution_count": 34,
   "metadata": {
    "scrolled": true
   },
   "outputs": [
    {
     "name": "stdout",
     "output_type": "stream",
     "text": [
      "Testing complete in 0m 15s\n"
     ]
    }
   ],
   "source": [
    "result = test_model(best_model)"
   ]
  },
  {
   "cell_type": "code",
   "execution_count": 35,
   "metadata": {},
   "outputs": [
    {
     "data": {
      "text/plain": [
       "{'f1_score': 0.33853033846153846,\n",
       " 'hamming_loss': 0.00066575546719681907,\n",
       " 'jaccard_index': 0.2794416666666667,\n",
       " 'label_cardinality': 2.012,\n",
       " 'label_density': 0.0004999999999999999,\n",
       " 'precision': 0.34050000000000002,\n",
       " 'recall': 0.33658333333333329,\n",
       " 'total_num_labels': 4024,\n",
       " 'total_num_preds': 3982}"
      ]
     },
     "execution_count": 35,
     "metadata": {},
     "output_type": "execute_result"
    }
   ],
   "source": [
    "result"
   ]
  },
  {
   "cell_type": "code",
   "execution_count": null,
   "metadata": {
    "collapsed": true
   },
   "outputs": [],
   "source": []
  }
 ],
 "metadata": {
  "anaconda-cloud": {},
  "kernelspec": {
   "display_name": "Python 3",
   "language": "python",
   "name": "python3"
  },
  "language_info": {
   "codemirror_mode": {
    "name": "ipython",
    "version": 3
   },
   "file_extension": ".py",
   "mimetype": "text/x-python",
   "name": "python",
   "nbconvert_exporter": "python",
   "pygments_lexer": "ipython3",
   "version": "3.6.1"
  }
 },
 "nbformat": 4,
 "nbformat_minor": 1
}
